{
 "cells": [
  {
   "cell_type": "markdown",
   "metadata": {},
   "source": [
    "<table style=\"width:100%\">\n",
    "  <tr>\n",
    "    <th align=\"right\"><img src=\"img/dilogo.png\" style=\"float:left;height:90px\"></th>\n",
    "    <th align=\"center\">\n",
    "    <h1 align=\"center\">Laboratorio 1</h1>\n",
    "    <h2 align=\"center\">Profesor: Ricardo Ñanculef</h2>\n",
    "    <h3 align=\"center\">Ayudante: Gabriel Ortega</h3>\n",
    "    <h3 align=\"center\">Juan Pablo Jorquera 201573533-6</h3>\n",
    "    <h3 align=\"center\">David Medel 201573548-4</h3>\n",
    "    <h3 align=\"center\">Agosto de 2019</h3>\n",
    "    </th> \n",
    "    <th align=\"left\"><img src=\"img/usmlogo.png\" style=\"float:right;height:85px\"></th>\n",
    "  </tr>"
   ]
  },
  {
   "cell_type": "markdown",
   "metadata": {},
   "source": [
    "> <font size = \"+2\"><b>Antes de corregir se correrá su notebook utilizando la función Cell $\\rightarrow$ Run All.</b></font>\n",
    "\n",
    "\n",
    "## Instrucciones\n",
    "\n",
    "La modalidad de trabajo será mediante el uso de jupyter notebook. El notebook debe ser desarrollado en parejas o individual y ser entregado el 16 de septiembre de 2019.\n",
    "\n",
    "La **modalidad de entrega será un archivo Apellido1_Apellido2_Lab1.zip** que contenga un notebook que incluya todas las preguntas con sus respectivas respuestas, un README que indique la forma correcta de ejecutar su notebook y cualquier archivo/carpeta extra que considere necesario para el correcto funcionamiento de su tarea (no es necesario adjuntar los .csv que se utilicen para trabajar). El laboratorio puede ser trabajado tanto en lenguaje R como en python 3 (para los que usen python 2.X, absténganse a las consecuencias). Lea bien el enunciado.\n",
    "\n",
    "\n",
    "**Cualquier copia detectada implicará nota 0 en el laboratorio correspondiente y se notificará la situación al profesor.**\n",
    "\n",
    "\n"
   ]
  },
  {
   "cell_type": "markdown",
   "metadata": {},
   "source": [
    "## 1. Limpiando Datos (15p)\n",
    "\n",
    "Como se mencionó en la ayudantía de laboratorio, la limpieza de datos es algo importante que se debe realizar antes de trabajar con un conjunto de datos, en esta sección trabajará con el dataset \"limpieza.csv\". Se espera que usted sea capaz de evidenciar las fallas dentro de este dataset y después de realizar la limpieza presente el dataset final resultante para comparar. \n",
    "\n",
    ">**Importante:** Si bien la limpieza es subjetiva, no optará a todo el puntaje de esta sección si presenta una limpieza incompleta (se observa que su dataset final se puede limpiar más a simple vista)."
   ]
  },
  {
   "cell_type": "code",
   "execution_count": 8,
   "metadata": {},
   "outputs": [],
   "source": [
    "suppressPackageStartupMessages(library(tidyverse))"
   ]
  },
  {
   "cell_type": "code",
   "execution_count": 2,
   "metadata": {},
   "outputs": [
    {
     "data": {
      "text/html": [
       "<table>\n",
       "<caption>A data.frame: 40 × 6</caption>\n",
       "<thead>\n",
       "\t<tr><th scope=col>genero</th><th scope=col>mascota</th><th scope=col>edad</th><th scope=col>tipo_trabajo</th><th scope=col>sueldo</th><th scope=col>e_civil</th></tr>\n",
       "\t<tr><th scope=col>&lt;chr&gt;</th><th scope=col>&lt;chr&gt;</th><th scope=col>&lt;int&gt;</th><th scope=col>&lt;chr&gt;</th><th scope=col>&lt;int&gt;</th><th scope=col>&lt;chr&gt;</th></tr>\n",
       "</thead>\n",
       "<tbody>\n",
       "\t<tr><td>masculino</td><td>gato </td><td>44</td><td>dependiente  </td><td>500000</td><td>viud@   </td></tr>\n",
       "\t<tr><td>masculino</td><td>no   </td><td>70</td><td>dependiente  </td><td>100000</td><td>casad@  </td></tr>\n",
       "\t<tr><td>femenino </td><td>no   </td><td>54</td><td>dependiente  </td><td>500000</td><td>solter@ </td></tr>\n",
       "\t<tr><td>masculino</td><td>perro</td><td>47</td><td>independiente</td><td>200000</td><td>separad@</td></tr>\n",
       "\t<tr><td>femenino </td><td>gato </td><td>33</td><td>dependiente  </td><td>500000</td><td>casad@  </td></tr>\n",
       "\t<tr><td>masculino</td><td>perro</td><td>64</td><td>independiente</td><td>200000</td><td>casad@  </td></tr>\n",
       "\t<tr><td>masculino</td><td>perro</td><td>18</td><td>dependiente  </td><td>500000</td><td>viud@   </td></tr>\n",
       "\t<tr><td>femenino </td><td>gato </td><td>67</td><td>independiente</td><td>500000</td><td>viud@   </td></tr>\n",
       "\t<tr><td>masculino</td><td>gato </td><td>45</td><td>independiente</td><td>200000</td><td>separad@</td></tr>\n",
       "\t<tr><td>femenino </td><td>perro</td><td>40</td><td>independiente</td><td>200000</td><td>viud@   </td></tr>\n",
       "\t<tr><td>masculino</td><td>perro</td><td>48</td><td>dependiente  </td><td>200000</td><td>separad@</td></tr>\n",
       "\t<tr><td>masculino</td><td>gato </td><td>19</td><td>dependiente  </td><td>500000</td><td>viud@   </td></tr>\n",
       "\t<tr><td>femenino </td><td>perro</td><td>44</td><td>independiente</td><td>300000</td><td>viud@   </td></tr>\n",
       "\t<tr><td>femenino </td><td>no   </td><td>50</td><td>independiente</td><td>200000</td><td>solter@ </td></tr>\n",
       "\t<tr><td>femenino </td><td>gato </td><td>45</td><td>independiente</td><td>300000</td><td>casad@  </td></tr>\n",
       "\t<tr><td>masculino</td><td>gato </td><td>61</td><td>independiente</td><td>100000</td><td>separad@</td></tr>\n",
       "\t<tr><td>femenino </td><td>gato </td><td>49</td><td>independiente</td><td>100000</td><td>casad@  </td></tr>\n",
       "\t<tr><td>masculino</td><td>perro</td><td>28</td><td>dependiente  </td><td>500000</td><td>solter@ </td></tr>\n",
       "\t<tr><td>femenino </td><td>perro</td><td>66</td><td>independiente</td><td>500000</td><td>casad@  </td></tr>\n",
       "\t<tr><td>masculino</td><td>perro</td><td>37</td><td>independiente</td><td>200000</td><td>separad@</td></tr>\n",
       "\t<tr><td>femenino </td><td>perro</td><td>44</td><td>dependiente  </td><td>100000</td><td>casad@  </td></tr>\n",
       "\t<tr><td>femenino </td><td>perro</td><td>41</td><td>dependiente  </td><td>300000</td><td>viud@   </td></tr>\n",
       "\t<tr><td>femenino </td><td>gato </td><td>45</td><td>dependiente  </td><td>500000</td><td>viud@   </td></tr>\n",
       "\t<tr><td>masculino</td><td>gato </td><td>61</td><td>dependiente  </td><td>100000</td><td>viud@   </td></tr>\n",
       "\t<tr><td>masculino</td><td>no   </td><td>24</td><td>dependiente  </td><td>200000</td><td>viud@   </td></tr>\n",
       "\t<tr><td>femenino </td><td>gato </td><td>68</td><td>independiente</td><td>100000</td><td>viud@   </td></tr>\n",
       "\t<tr><td>femenino </td><td>perro</td><td>30</td><td>independiente</td><td>500000</td><td>solter@ </td></tr>\n",
       "\t<tr><td>masculino</td><td>no   </td><td>60</td><td>independiente</td><td>100000</td><td>casad@  </td></tr>\n",
       "\t<tr><td>masculino</td><td>perro</td><td>33</td><td>independiente</td><td>100000</td><td>casad@  </td></tr>\n",
       "\t<tr><td>femenino </td><td>perro</td><td>18</td><td>independiente</td><td>300000</td><td>casad@  </td></tr>\n",
       "\t<tr><td>femenino </td><td>gato </td><td>27</td><td>independiente</td><td>100000</td><td>casad@  </td></tr>\n",
       "\t<tr><td>masculino</td><td>perro</td><td>24</td><td>independiente</td><td>500000</td><td>solter@ </td></tr>\n",
       "\t<tr><td>femenino </td><td>no   </td><td>45</td><td>dependiente  </td><td>200000</td><td>viud@   </td></tr>\n",
       "\t<tr><td>femenino </td><td>gato </td><td>69</td><td>dependiente  </td><td>300000</td><td>separad@</td></tr>\n",
       "\t<tr><td>femenino </td><td>perro</td><td>70</td><td>independiente</td><td>100000</td><td>separad@</td></tr>\n",
       "\t<tr><td>masculino</td><td>no   </td><td>29</td><td>independiente</td><td>500000</td><td>viud@   </td></tr>\n",
       "\t<tr><td>masculino</td><td>perro</td><td>40</td><td>independiente</td><td>100000</td><td>casad@  </td></tr>\n",
       "\t<tr><td>masculino</td><td>perro</td><td>58</td><td>independiente</td><td>300000</td><td>solter@ </td></tr>\n",
       "\t<tr><td>femenino </td><td>gato </td><td>60</td><td>independiente</td><td>300000</td><td>separad@</td></tr>\n",
       "\t<tr><td>femenino </td><td>gato </td><td>67</td><td>independiente</td><td>200000</td><td>separad@</td></tr>\n",
       "</tbody>\n",
       "</table>\n"
      ],
      "text/latex": [
       "A data.frame: 40 × 6\n",
       "\\begin{tabular}{r|llllll}\n",
       " genero & mascota & edad & tipo\\_trabajo & sueldo & e\\_civil\\\\\n",
       " <chr> & <chr> & <int> & <chr> & <int> & <chr>\\\\\n",
       "\\hline\n",
       "\t masculino & gato  & 44 & dependiente   & 500000 & viud@   \\\\\n",
       "\t masculino & no    & 70 & dependiente   & 100000 & casad@  \\\\\n",
       "\t femenino  & no    & 54 & dependiente   & 500000 & solter@ \\\\\n",
       "\t masculino & perro & 47 & independiente & 200000 & separad@\\\\\n",
       "\t femenino  & gato  & 33 & dependiente   & 500000 & casad@  \\\\\n",
       "\t masculino & perro & 64 & independiente & 200000 & casad@  \\\\\n",
       "\t masculino & perro & 18 & dependiente   & 500000 & viud@   \\\\\n",
       "\t femenino  & gato  & 67 & independiente & 500000 & viud@   \\\\\n",
       "\t masculino & gato  & 45 & independiente & 200000 & separad@\\\\\n",
       "\t femenino  & perro & 40 & independiente & 200000 & viud@   \\\\\n",
       "\t masculino & perro & 48 & dependiente   & 200000 & separad@\\\\\n",
       "\t masculino & gato  & 19 & dependiente   & 500000 & viud@   \\\\\n",
       "\t femenino  & perro & 44 & independiente & 300000 & viud@   \\\\\n",
       "\t femenino  & no    & 50 & independiente & 200000 & solter@ \\\\\n",
       "\t femenino  & gato  & 45 & independiente & 300000 & casad@  \\\\\n",
       "\t masculino & gato  & 61 & independiente & 100000 & separad@\\\\\n",
       "\t femenino  & gato  & 49 & independiente & 100000 & casad@  \\\\\n",
       "\t masculino & perro & 28 & dependiente   & 500000 & solter@ \\\\\n",
       "\t femenino  & perro & 66 & independiente & 500000 & casad@  \\\\\n",
       "\t masculino & perro & 37 & independiente & 200000 & separad@\\\\\n",
       "\t femenino  & perro & 44 & dependiente   & 100000 & casad@  \\\\\n",
       "\t femenino  & perro & 41 & dependiente   & 300000 & viud@   \\\\\n",
       "\t femenino  & gato  & 45 & dependiente   & 500000 & viud@   \\\\\n",
       "\t masculino & gato  & 61 & dependiente   & 100000 & viud@   \\\\\n",
       "\t masculino & no    & 24 & dependiente   & 200000 & viud@   \\\\\n",
       "\t femenino  & gato  & 68 & independiente & 100000 & viud@   \\\\\n",
       "\t femenino  & perro & 30 & independiente & 500000 & solter@ \\\\\n",
       "\t masculino & no    & 60 & independiente & 100000 & casad@  \\\\\n",
       "\t masculino & perro & 33 & independiente & 100000 & casad@  \\\\\n",
       "\t femenino  & perro & 18 & independiente & 300000 & casad@  \\\\\n",
       "\t femenino  & gato  & 27 & independiente & 100000 & casad@  \\\\\n",
       "\t masculino & perro & 24 & independiente & 500000 & solter@ \\\\\n",
       "\t femenino  & no    & 45 & dependiente   & 200000 & viud@   \\\\\n",
       "\t femenino  & gato  & 69 & dependiente   & 300000 & separad@\\\\\n",
       "\t femenino  & perro & 70 & independiente & 100000 & separad@\\\\\n",
       "\t masculino & no    & 29 & independiente & 500000 & viud@   \\\\\n",
       "\t masculino & perro & 40 & independiente & 100000 & casad@  \\\\\n",
       "\t masculino & perro & 58 & independiente & 300000 & solter@ \\\\\n",
       "\t femenino  & gato  & 60 & independiente & 300000 & separad@\\\\\n",
       "\t femenino  & gato  & 67 & independiente & 200000 & separad@\\\\\n",
       "\\end{tabular}\n"
      ],
      "text/markdown": [
       "\n",
       "A data.frame: 40 × 6\n",
       "\n",
       "| genero &lt;chr&gt; | mascota &lt;chr&gt; | edad &lt;int&gt; | tipo_trabajo &lt;chr&gt; | sueldo &lt;int&gt; | e_civil &lt;chr&gt; |\n",
       "|---|---|---|---|---|---|\n",
       "| masculino | gato  | 44 | dependiente   | 500000 | viud@    |\n",
       "| masculino | no    | 70 | dependiente   | 100000 | casad@   |\n",
       "| femenino  | no    | 54 | dependiente   | 500000 | solter@  |\n",
       "| masculino | perro | 47 | independiente | 200000 | separad@ |\n",
       "| femenino  | gato  | 33 | dependiente   | 500000 | casad@   |\n",
       "| masculino | perro | 64 | independiente | 200000 | casad@   |\n",
       "| masculino | perro | 18 | dependiente   | 500000 | viud@    |\n",
       "| femenino  | gato  | 67 | independiente | 500000 | viud@    |\n",
       "| masculino | gato  | 45 | independiente | 200000 | separad@ |\n",
       "| femenino  | perro | 40 | independiente | 200000 | viud@    |\n",
       "| masculino | perro | 48 | dependiente   | 200000 | separad@ |\n",
       "| masculino | gato  | 19 | dependiente   | 500000 | viud@    |\n",
       "| femenino  | perro | 44 | independiente | 300000 | viud@    |\n",
       "| femenino  | no    | 50 | independiente | 200000 | solter@  |\n",
       "| femenino  | gato  | 45 | independiente | 300000 | casad@   |\n",
       "| masculino | gato  | 61 | independiente | 100000 | separad@ |\n",
       "| femenino  | gato  | 49 | independiente | 100000 | casad@   |\n",
       "| masculino | perro | 28 | dependiente   | 500000 | solter@  |\n",
       "| femenino  | perro | 66 | independiente | 500000 | casad@   |\n",
       "| masculino | perro | 37 | independiente | 200000 | separad@ |\n",
       "| femenino  | perro | 44 | dependiente   | 100000 | casad@   |\n",
       "| femenino  | perro | 41 | dependiente   | 300000 | viud@    |\n",
       "| femenino  | gato  | 45 | dependiente   | 500000 | viud@    |\n",
       "| masculino | gato  | 61 | dependiente   | 100000 | viud@    |\n",
       "| masculino | no    | 24 | dependiente   | 200000 | viud@    |\n",
       "| femenino  | gato  | 68 | independiente | 100000 | viud@    |\n",
       "| femenino  | perro | 30 | independiente | 500000 | solter@  |\n",
       "| masculino | no    | 60 | independiente | 100000 | casad@   |\n",
       "| masculino | perro | 33 | independiente | 100000 | casad@   |\n",
       "| femenino  | perro | 18 | independiente | 300000 | casad@   |\n",
       "| femenino  | gato  | 27 | independiente | 100000 | casad@   |\n",
       "| masculino | perro | 24 | independiente | 500000 | solter@  |\n",
       "| femenino  | no    | 45 | dependiente   | 200000 | viud@    |\n",
       "| femenino  | gato  | 69 | dependiente   | 300000 | separad@ |\n",
       "| femenino  | perro | 70 | independiente | 100000 | separad@ |\n",
       "| masculino | no    | 29 | independiente | 500000 | viud@    |\n",
       "| masculino | perro | 40 | independiente | 100000 | casad@   |\n",
       "| masculino | perro | 58 | independiente | 300000 | solter@  |\n",
       "| femenino  | gato  | 60 | independiente | 300000 | separad@ |\n",
       "| femenino  | gato  | 67 | independiente | 200000 | separad@ |\n",
       "\n"
      ],
      "text/plain": [
       "   genero    mascota edad tipo_trabajo  sueldo e_civil \n",
       "1  masculino gato    44   dependiente   500000 viud@   \n",
       "2  masculino no      70   dependiente   100000 casad@  \n",
       "3  femenino  no      54   dependiente   500000 solter@ \n",
       "4  masculino perro   47   independiente 200000 separad@\n",
       "5  femenino  gato    33   dependiente   500000 casad@  \n",
       "6  masculino perro   64   independiente 200000 casad@  \n",
       "7  masculino perro   18   dependiente   500000 viud@   \n",
       "8  femenino  gato    67   independiente 500000 viud@   \n",
       "9  masculino gato    45   independiente 200000 separad@\n",
       "10 femenino  perro   40   independiente 200000 viud@   \n",
       "11 masculino perro   48   dependiente   200000 separad@\n",
       "12 masculino gato    19   dependiente   500000 viud@   \n",
       "13 femenino  perro   44   independiente 300000 viud@   \n",
       "14 femenino  no      50   independiente 200000 solter@ \n",
       "15 femenino  gato    45   independiente 300000 casad@  \n",
       "16 masculino gato    61   independiente 100000 separad@\n",
       "17 femenino  gato    49   independiente 100000 casad@  \n",
       "18 masculino perro   28   dependiente   500000 solter@ \n",
       "19 femenino  perro   66   independiente 500000 casad@  \n",
       "20 masculino perro   37   independiente 200000 separad@\n",
       "21 femenino  perro   44   dependiente   100000 casad@  \n",
       "22 femenino  perro   41   dependiente   300000 viud@   \n",
       "23 femenino  gato    45   dependiente   500000 viud@   \n",
       "24 masculino gato    61   dependiente   100000 viud@   \n",
       "25 masculino no      24   dependiente   200000 viud@   \n",
       "26 femenino  gato    68   independiente 100000 viud@   \n",
       "27 femenino  perro   30   independiente 500000 solter@ \n",
       "28 masculino no      60   independiente 100000 casad@  \n",
       "29 masculino perro   33   independiente 100000 casad@  \n",
       "30 femenino  perro   18   independiente 300000 casad@  \n",
       "31 femenino  gato    27   independiente 100000 casad@  \n",
       "32 masculino perro   24   independiente 500000 solter@ \n",
       "33 femenino  no      45   dependiente   200000 viud@   \n",
       "34 femenino  gato    69   dependiente   300000 separad@\n",
       "35 femenino  perro   70   independiente 100000 separad@\n",
       "36 masculino no      29   independiente 500000 viud@   \n",
       "37 masculino perro   40   independiente 100000 casad@  \n",
       "38 masculino perro   58   independiente 300000 solter@ \n",
       "39 femenino  gato    60   independiente 300000 separad@\n",
       "40 femenino  gato    67   independiente 200000 separad@"
      ]
     },
     "metadata": {},
     "output_type": "display_data"
    }
   ],
   "source": [
    "limpieza <- read.csv(\"limpieza.csv\")\n",
    "\n",
    "# Limpieza de tabla\n",
    "limpieza <- limpieza %>%\n",
    "# Normalizar columna genero con variantes a 'masculino' y 'femenino'\n",
    "    mutate(genero = str_replace(genero, 'hombre', 'masculino')) %>%\n",
    "    mutate(genero = str_replace(genero, 'Hombre', 'masculino')) %>%\n",
    "    mutate(genero = str_replace(genero, 'Masculino', 'masculino')) %>%\n",
    "    mutate(genero = str_replace(genero, 'mujer', 'femenino')) %>%\n",
    "    mutate(genero = str_replace(genero, 'Mujer', 'femenino')) %>%\n",
    "    mutate(genero = str_replace(genero, 'Femenino', 'femenino')) %>%\n",
    "# Normalizar columna mascota a 'perro' y 'gato'\n",
    "    mutate(mascota = str_replace(mascota, 'Perro', 'perro')) %>%\n",
    "    mutate(mascota = str_replace(mascota, 'Gato', 'gato')) %>%\n",
    "# Filtro de personas anómalas con edad 0\n",
    "    filter(edad > 0) %>%\n",
    "# Cambiar tipo de columna estado civil\n",
    "    mutate(e_civil = as.character(e_civil)) %>%\n",
    "# Cambiar tipo de columna edad\n",
    "    mutate(edad = as.integer(edad)) %>%\n",
    "# Separar columna trabajo en tipo de trabajo y sueldo\n",
    "    separate(trabajo, c(\"tipo_trabajo\", \"sueldo\"), \"/\") %>%\n",
    "# Limpiar y convertir nueva columna sueldo a numerico\n",
    "    mutate(sueldo = as.integer(substring(sueldo, 2)))\n",
    "\n",
    "limpieza"
   ]
  },
  {
   "cell_type": "markdown",
   "metadata": {},
   "source": [
    "## 2. Apps en la Playstore (35p)\n",
    "\n",
    "Google Play Store actualmente posee una enorme cantidad de aplicaciones que pueden ser descargadas por los usuarios. En esta sección utilizará una pequeña parte de dicho universo y trabajará principalmente en análisis exploratorio de los datos para responder las preguntas que verá a continuación. \n",
    "\n",
    "El archivo a utilizar es \"googleplaystore.csv\" y para información extra puede referirse a [este enlace](https://www.kaggle.com/lava18/google-play-store-apps)\n",
    "\n",
    ">PD: Hay 1 fila mala en el dataset, no es difícil de identificar."
   ]
  },
  {
   "cell_type": "markdown",
   "metadata": {},
   "source": [
    "Primero realizaremos limpieza a los datos para su correcto uso"
   ]
  },
  {
   "cell_type": "code",
   "execution_count": null,
   "metadata": {},
   "outputs": [],
   "source": [
    "datos <- read.csv(\"googleplaystore.csv\")\n",
    "#Eliminar fila con categoria = 1.9\n",
    "datos<- datos[datos$Category != \"1.9\", ]\n",
    "#Eliminar filas NaN\n",
    "datos<- datos[datos$Type != 'NaN', ]\n",
    "datos<- datos[datos$Rating != 'NaN', ]\n",
    "#Rating a numeros\n",
    "datos$Rating <- as.numeric(datos$Rating)\n"
   ]
  },
  {
   "cell_type": "markdown",
   "metadata": {},
   "source": [
    ">a) ¿Es posible observar alguna concentración de ratings de las aplicaciones en torno a un intervalo? Si su respuesta es sí, ¿Qué rango/s tiene/n mayor concentración?"
   ]
  },
  {
   "cell_type": "code",
   "execution_count": null,
   "metadata": {},
   "outputs": [],
   "source": [
    "intervalos <- seq(from = 1, to = 5, by = 1) \n",
    "frecuencias <- cut(datos$Rating, \n",
    "                 breaks = intervalos,   \n",
    "                 dig.lab = 2,   \n",
    "                 right = FALSE) \n",
    "tabla.frec  <- table(frecuencias)   # Crea la tabla de frecuencias\n",
    "cbind(tabla.frec)\n",
    "\n"
   ]
  },
  {
   "cell_type": "markdown",
   "metadata": {},
   "source": [
    "**Respuesta:** Tal como lo señala la tabla recién expuesta el intervalo con mayor concentración corresponde a \\[4,5), con un valor de frecuencia de 7094."
   ]
  },
  {
   "cell_type": "markdown",
   "metadata": {},
   "source": [
    ">b) ¿Qué grupo tiene ratings más dispersos, las aplicaciones que pertenecen a la categoría de \"EDUCATION\" o las que pertenecen a la categoría de \"MEDICAL\"? Utilice al menos 1 recurso visual y 1 medida de tendencia para responder. "
   ]
  },
  {
   "cell_type": "code",
   "execution_count": null,
   "metadata": {},
   "outputs": [],
   "source": [
    "#Dividimos en dos subset \n",
    "education= subset(datos, datos$Category== \"EDUCATION\")\n",
    "medical= subset(datos, datos$Category== \"MEDICAL\")\n",
    "\n",
    "desv_education<- sd(education$Rating)\n",
    "desv_medical<- sd(medical$Rating)\n",
    "\n",
    "c(Desviación_education = desv_education, Desviación_medical= desv_medical)\n",
    "\n",
    "plot(education$Rating) #poner nmbre a los graficos\n",
    "plot(medical$Rating)\n",
    "#falta colocar una linea de tendencia para evidenciar la dispersión :o\n"
   ]
  },
  {
   "cell_type": "markdown",
   "metadata": {},
   "source": [
    "**Respuesta:** El grupo con datos mas dispersos corresponde a *Medical*, esto pues su desviación estanadar tal como se presenta a un comienzo corresponde a un valor de 0,66. Este valor se refleja en el gráfico de dispersión presentado. Dicho grafico evidencia y comprueba como los datos se distribuyen más lejos a la linea de tendencia que en el caso del grupo *Education*. "
   ]
  },
  {
   "cell_type": "markdown",
   "metadata": {},
   "source": [
    ">c) Construya un boxplot sobre la cantidad de instalaciones de las aplicaciones cuyo rating sea menor a 4 y otro para las aplicacions cuyo rating sea mayor o igual a 4, compare lo que observa. \n",
    "\n",
    "**Hint:** Podría aplicar algún cambio de escala a los valores. ¿Cuál? No log sé. "
   ]
  },
  {
   "cell_type": "code",
   "execution_count": null,
   "metadata": {},
   "outputs": [],
   "source": [
    "# Instalaciones.\n",
    "datos$Installs <- as.numeric(datos$Installs)\n",
    "#Los valores no concuerdan , no es esta conversión\n",
    "\n",
    "library(ggplot2)\n",
    "#boxplot\n",
    "ggplot(datos, aes(x=Rating, y=Installs, fill=Rating>4))+ ggtitle(\"Cantidad de instalaciones dependiendo del rating\") + \n",
    "    geom_boxplot() + \n",
    "    xlab(\"Rating\") + ylab(\"Instalaciones\") + scale_y_continuous(trans = log2_trans()) + \n",
    "    scale_fill_manual(values=c(\"darkorange\",\"dodgerblue2\"))\n"
   ]
  },
  {
   "cell_type": "markdown",
   "metadata": {},
   "source": [
    ">d) Para cada categoría obtenga el rango, la deviación estándar, varianza del rating y la cantidad de aplicaciones pertenecientes a dicha categoría y responda:\n",
    "\n",
    "* De las aplicaciones de mayor rango (fíjelo usted) ¿Cuáles presentan mayor y menor variabilidad?\n",
    "* ¿Cuál es la principal diferencia entre las aplicaciones cuyo rango es inferior a 2.5 y las cuyo rango es mayor a dicho valor? (Si usted no nota una diferencia significativa es una respuesta válida, siempre y cuando esté fundamentada)\n",
    "* ¿Es posible concluir que las categorías con una mayor cantidad de aplicaciones presentan una mayor variabilidad de rating que aquellas con menos aplicaciones? "
   ]
  },
  {
   "cell_type": "code",
   "execution_count": null,
   "metadata": {},
   "outputs": [],
   "source": [
    "#install.packages(\"tables\", dependencies=TRUE)"
   ]
  },
  {
   "cell_type": "code",
   "execution_count": null,
   "metadata": {},
   "outputs": [],
   "source": [
    "#Funcion para calcular lo solicitado\n",
    "mistads <- function(x){\n",
    "                n <- length(x) #largo\n",
    "                v <- var(x) #varianza\n",
    "                s <- sd(x) #Desviacion estandar\n",
    "                cv <- sd(x)/mean(x)\n",
    "                return(c( desviacion= s , varianza=v,  cantidad_app =n))\n",
    "}\n",
    "\n",
    "#Rating a numeros\n",
    "# distinct(datos, Category) # No aparece category 1.9 :S\n",
    "\n",
    "datos$Rating <- as.numeric(datos$Rating)\n",
    "library(tables) \n",
    "tt <- tabular( ( Categoria = Category ) ~ \n",
    "             ( Rating = Rating ) *\n",
    "             ( (Media = mean) + \n",
    "               (Desviación = sd) + \n",
    "               (Mínimo = min) + \n",
    "               (Máximo = max) + \n",
    "               (Mediana = median) ) +\n",
    "             ( Cantidad_App = 1 ), \n",
    "             data = datos )\n",
    "tt"
   ]
  },
  {
   "cell_type": "markdown",
   "metadata": {},
   "source": [
    ">e) Responda las siguientes preguntas: \n",
    "\n",
    "* Si mi aplicación pesa mucho ¿es probable que sea mal calificada?\n",
    "* Si mi aplicación tiene una mayor cantidad de instalaciones ¿su rating será más alto?\n",
    "* Si mi app está enfocada en alguna categoría en especial ¿tendrá una mayor cantidad de instalaciones?\n",
    "* ¿Existe alguna categoría donde se aprecien más aplicaciones pagas que gratuitas?\n",
    "\n",
    "Fundamente su respuesta utilizando herramientas visuales o estadísticas. "
   ]
  },
  {
   "cell_type": "markdown",
   "metadata": {},
   "source": [
    "**SOLUCIÓN** :  Para la primera pregunta primero debemos establecer que es \"pesa mucho\" y \"mal calificada\", por lo que se define lo siguiente:\n",
    "* Pesa mucho(PM) : Size mayor a la media\n",
    "* Mal calificada(MC) : Rating menor a la media\n",
    "* Mayor cantidad de instalaciones (MI) : Installs mayor a la media\n"
   ]
  },
  {
   "cell_type": "code",
   "execution_count": null,
   "metadata": {},
   "outputs": [],
   "source": [
    "m_r = mean(datos$Rating)\n",
    "datos$Size <- as.numeric(datos$Size)\n",
    "m_s = mean(datos$Size)\n",
    "\n",
    "#datos$Installs <- as.numeric(datos$Installs)\n",
    "m_i = mean(datos$Installs)\n",
    "\n",
    "#ARREGLAR DATOS PARA TRABAJARLOS \n",
    "\n",
    "\n",
    "c(Media_Rating = media_Rating, Media_Size= m_s, Media_Installs = m_i)"
   ]
  },
  {
   "cell_type": "markdown",
   "metadata": {},
   "source": [
    "* P(MC|MC) = \n",
    "* No, calcular probabilidad\n",
    "* Ni idea como hacerla\n",
    "* No existe categoria donde se aprecie más aplicaciones \"Paid\" que \"Free\", lo cual se puede observar en la siguiente tabla,la cual muestra por cada categoria su tipo."
   ]
  },
  {
   "cell_type": "code",
   "execution_count": null,
   "metadata": {},
   "outputs": [],
   "source": [
    "library(tables) \n",
    "#datos<- datos[datos$Category != \"1.9\", ]\n",
    "tt <- tabular( ( Categoria = Category ) ~ \n",
    "             ( Type = Type ), \n",
    "             data = datos )\n",
    "tt"
   ]
  },
  {
   "cell_type": "markdown",
   "metadata": {},
   "source": [
    ">f) Construya un histograma de los tamaños de las aplicaciones ¿Se aprecia algún tipo de sesgo en la distribución?."
   ]
  },
  {
   "cell_type": "code",
   "execution_count": null,
   "metadata": {},
   "outputs": [],
   "source": [
    "datos$Size =  as.numeric(datos$Size)\n",
    "hist(datos$Size)\n"
   ]
  },
  {
   "cell_type": "markdown",
   "metadata": {},
   "source": [
    ">g) Haga un histograma para los ratings de cada categoría. ¿Observa algún patrón respecto al sesgo de los histogramas obtenidos?"
   ]
  },
  {
   "cell_type": "code",
   "execution_count": null,
   "metadata": {},
   "outputs": [],
   "source": [
    "distinct(datos, Category)\n",
    "\n",
    "hist(ART_AND_DESIGN$Rating)"
   ]
  },
  {
   "cell_type": "markdown",
   "metadata": {},
   "source": [
    ">h) Construya un heatmap (debe investigarlo por su cuenta) de las aplicaciones pagas donde la dimensión de color sea el rating y los ejes sean el precio y el tamaño de la aplicación. Concluya respecto a lo observado."
   ]
  },
  {
   "cell_type": "code",
   "execution_count": null,
   "metadata": {},
   "outputs": [],
   "source": [
    "aplicaciones= subset(datos, Type == \"Paid\")\n",
    "aplicaciones$Category <- NULL\n",
    "aplicaciones$Reviews <- NULL\n",
    "aplicaciones$Installs <- NULL\n",
    "aplicaciones$Type <- NULL\n",
    "aplicaciones$Price <- NULL\n",
    "aplicaciones$Content.Rating <- NULL\n",
    "aplicaciones$Genres <- NULL\n",
    "aplicaciones$Last.Updated <- NULL\n",
    "aplicaciones$Current.Ver <- NULL\n",
    "aplicaciones$Android.Ver <- NULL\n",
    "\n",
    "library(ggplot2) \n",
    "library(tidyr)\n",
    "#new <- aplicaciones %>% gather (key=App, value= Rating, \"Photo Editor & Candy Camera & Grid & ScrapBook\":\"iHoroscope - 2018 Daily Horoscope & Astrology\")\n",
    "ggplot(aplicaciones, aes(x=aplicaciones$Size, y=aplicaciones$App, fill=aplicaciones$Rating)) + geom_tile()\n",
    "\n",
    "#as.matrix(aplicaciones)\n",
    "#str(aplicaciones)\n",
    "#heatmap(as.matrix(aplicaciones), scale = \"none\")"
   ]
  },
  {
   "cell_type": "markdown",
   "metadata": {},
   "source": [
    "## 3. Aproximando el perímetro de una circunferencia (20p)\n",
    "\n",
    "De sus cursos de matemática seguro habrá escuchado acerca de las coordenas polares, un cambio de coordenadas donde representamos los puntos en función de un radio y un ángulo. \n",
    "\n",
    "$$\n",
    "x = r\\cdot cos(\\theta)\n",
    "$$\n",
    "\n",
    "$$\n",
    "y = r\\cdot sin(\\theta)\n",
    "$$\n",
    "\n",
    "Utilizando estas coordenadas, usted posicionará $n$ puntos aleatorios dentro de la circunferencia lo que generará un polígono irregular, para cada $n \\in [4,\\infty]$ elegido debe simular una cantidad suficiente de polígonos (800-1000) que utilizará para aproximar el perímetro de la circunferencia, luego calculará el perímetro promedio y la desviación estándar para cada $n$ utilizado.\n",
    "\n",
    "\n",
    "Una vez haya simulado con varios $n$ distintos grafique el perímetro promedio junto a su margen de error $\\bar{x} \\pm \\sigma$ y el perímetro real de la circunferencia. Utilice la cantidad de lados del polígono como el eje X de su gráfico.\n",
    "\n",
    "> El gráfico involucra 4 lineas: promedio del perímetro, perímetro real, límite superior del error y límite inferior del error.\n",
    "\n",
    "Recuerde explicar cómo utilizará el método de los polígonos para aproximar el perímetro de la circunferencia y concluya a partir de lo que observa en el gráfico.\n",
    "\n",
    "Algunos ejemplos de $n = 5$"
   ]
  },
  {
   "cell_type": "markdown",
   "metadata": {},
   "source": [
    "<table style=\"width:100%\">\n",
    "  <tr>\n",
    "    <th align=\"right\"><img src=\"img/ej1.png\" style=\"float:left;height:120px\"></th>\n",
    "    <th align=\"center\"><img src=\"img/ej2.png\" style=\"float:left;height:120px\"></th> \n",
    "    <th align=\"left\"><img src=\"img/ej3.png\" style=\"float:right;height:120px\"></th>\n",
    "  </tr>\n",
    "    \n",
    "Para facilitar la construcción del polígono se sugiere generar los $n$ puntos y luego conectarlos en sentido antihorario/horario."
   ]
  },
  {
   "cell_type": "code",
   "execution_count": 3,
   "metadata": {},
   "outputs": [
    {
     "data": {
      "text/plain": [
       "Time difference of 1.628877 mins"
      ]
     },
     "metadata": {},
     "output_type": "display_data"
    },
    {
     "data": {
      "image/png": "[encoded data removed]",
      "text/plain": [
       "plot without title"
      ]
     },
     "metadata": {},
     "output_type": "display_data"
    }
   ],
   "source": [
    "# Respuesta programada en R\n",
    "library(ggplot2)\n",
    "set.seed(3)\n",
    "start.time <- Sys.time()\n",
    "\n",
    "# Función para verificar que no hayan puntos repetidos\n",
    "tieneDuplicados <- function(puntos) {\n",
    "  if (anyDuplicated(puntos)) {\n",
    "      return(1)\n",
    "  } else {\n",
    "      return(0)\n",
    "  }\n",
    "}\n",
    "\n",
    "# Función para generar lista con puntos entre 0 y 2pi y que no se repitan\n",
    "generarPuntos <- function(nPuntos) {\n",
    "    repeat {\n",
    "        puntos <- runif(nPuntos, 0, 2*pi)\n",
    "        if (!tieneDuplicados(puntos)) {\n",
    "            break\n",
    "        }\n",
    "    }\n",
    "    return(puntos)\n",
    "}\n",
    "\n",
    "# Función que calcula el perímetro\n",
    "distancia <- function(puntos) {\n",
    "    puntos <- sort(puntos)\n",
    "    perimetro_total <- 0\n",
    "    # Calcular distancias entre puntos\n",
    "    for (i in 1:length(puntos)) {\n",
    "        if (i == length(puntos)) {\n",
    "          delta_x <- cos(puntos[i]) - cos(puntos[1])\n",
    "          delta_y <- sin(puntos[i]) - sin(puntos[1])\n",
    "        } else {\n",
    "          delta_x <- cos(puntos[i]) - cos(puntos[i+1])\n",
    "          delta_y <- sin(puntos[i]) - sin(puntos[i+1])\n",
    "        }\n",
    "        perimetro_total <- perimetro_total + sqrt(delta_x ** 2 + delta_y ** 2)\n",
    "    }\n",
    "    return(perimetro_total)\n",
    "}\n",
    "\n",
    "# Condiciones iniciales con vectores para guardar resultados\n",
    "cantidadPuntos <- vector(mode = 'numeric', length = 250)\n",
    "perimetros_prom <- vector(mode = 'numeric', length = 250)\n",
    "perimetros_sd <- vector(mode = 'numeric', length = 250)\n",
    "i <- 1\n",
    "# Iterar sobre la cantidad de puntos a generar entre [4, 1000]\n",
    "for (nPuntos in seq(4, 1000, by = 4)) {\n",
    "    perimetros <- vector(mode = 'numeric', length = 800)\n",
    "    # Iterar sobre la cantidad de circunferencias a generar para cada cantidad de puntos\n",
    "    for (nCircunferencia in 1:800) {\n",
    "        puntos <- generarPuntos(nPuntos)\n",
    "        perimetros[nCircunferencia] <- distancia(puntos)\n",
    "    }\n",
    "    # Guardar resultados\n",
    "    cantidadPuntos[i] <- nPuntos\n",
    "    perimetros_prom[i] <- mean(perimetros)\n",
    "    perimetros_sd[i] <- sd(perimetros)\n",
    "    i <- i+1\n",
    "}\n",
    "\n",
    "# Cálculo de tiempo\n",
    "end.time <- Sys.time()\n",
    "time.taken <- end.time - start.time\n",
    "time.taken\n",
    "\n",
    "datos <- data.frame(nPuntos = cantidadPuntos, perimetros_promedio = perimetros_prom, sd_perimetros = perimetros_sd)\n",
    "#head(datos)\n",
    "\n",
    "# Generación de gráfico\n",
    "ggplot(data=datos, aes(x=nPuntos, y=perimetros_promedio)) +\n",
    "ggtitle(\"Simulación de perímetro de circunferencias\") +\n",
    "xlab(\"Cantidad de puntos generados\") +\n",
    "ylab(\"Perímetro\") +\n",
    "geom_smooth(method = \"loess\", aes(color=\"Perímetro promedio\"), se = FALSE) +\n",
    "geom_hline(aes(yintercept = 2*pi, color = \"Perímetro real\")) +\n",
    "scale_x_continuous(trans='log2') +\n",
    "labs(color='Datos') +\n",
    "geom_smooth(method = \"loess\", aes(x=nPuntos, y=(perimetros_promedio+sd_perimetros), color=\"Límite superior error\"), se = FALSE) +\n",
    "geom_smooth(method = \"loess\", aes(x=nPuntos, y=(perimetros_promedio-sd_perimetros), color=\"Límite inferior error\"), se = FALSE)"
   ]
  },
  {
   "cell_type": "markdown",
   "metadata": {},
   "source": [
    "### Explicación resultados\n",
    "El ejercicio se realizó simulando las circunferencias generando puntos al azar y calculando el perímetro del polígono generado, utilizando desde 4 a 1000 puntos y, a su vez, para cada cantidad de puntos, se hicieron 800 simulaciones, obteniendo así el perímetro promedio de cada polígono generado. También se trabajó con la restricción de que los puntos generados al azar no se pudieran repetir.\n",
    "\n",
    "Como se puede ver en el gráfico, al principio los perímetros obtenidos se alejaban bastante del perímetro real, iniciando con un error porcentual aproximado de un 28.4% y con un alto nivel de variación en cada simulación, lo que se refleja en el amplio rango de los errores (límite superior e inferior). Luego, al aumentar el número de puntos, las simulaciones se normalizan rápidamente, acercándose antes de los 100 puntos al perímetro real al prácticamente interseptar las cuatro líneas, lo que implica que el margen de error prácticamente se elimina. La simulación termina con un error aproximado de un 0.0%, lo que demuestra la validez de la metodología para estimar el perímetro de la circunferencia y que ello depende directamente de la cantidad de puntos utilizados en la simulación."
   ]
  },
  {
   "cell_type": "markdown",
   "metadata": {},
   "source": [
    "## 4. Bingo Ball (30p)\n",
    "\n",
    "A usted se le ha presentado la oportunidad de ganar un increíble premio que cuesta 10 veces el valor de 1 intento en el juego de de \"Bingo Ball\", el juego consiste en lo siguiente (instrucciones abajo del diagrama)nPuntos"
   ]
  },
  {
   "cell_type": "markdown",
   "metadata": {},
   "source": [
    "<img src=\"img/game.png\">"
   ]
  },
  {
   "cell_type": "markdown",
   "metadata": {},
   "source": [
    "En el diagrama, los círculos representan \"etapas\" por las que la bolita puede pasar. El funcionamiento del juego es el siguiente:\n",
    "\n",
    "* Usted lanzará 7 bolitas secuencialmente.\n",
    "* Cada bolita llega inicialmente a A, B, C o D (no entre medio o a algún otro lugar). Esto se asume equiprobable a menos que se diga lo contrario.\n",
    "* En cada etapa la bolita tiene la posibilidad de caer hacia la izquierda o a la derecha. Ciertas etapas (relleno amarillo) hacen que la bolita caiga en una única dirección ya que la bolita caería del tablero si no fuera así.\n",
    "* La bolita si o sí pasará por una y solo una etapa de cada fila $F_{i}\\;\\; i \\in [1,4]$ (linea punteada en el diagrama)\n",
    "* Usted ganará el juego si cada zona final (1,2,3,4) es alcanzada al menos 1 vez por cada bolita.\n",
    "\n",
    ">En palabras simples, la bolita va bajando mientras cambia (o no) de dirección al chocar con los puntos negros.\n",
    "\n",
    "\n",
    "A continuación, se presenta un ejemplo del recorrido de una bola:\n",
    "\n",
    "<img src=\"img/game2.png\">"
   ]
  },
  {
   "cell_type": "markdown",
   "metadata": {},
   "source": [
    "Como puede ver, la bola inicialmente llegó a \"A\", luego su recorrido fue: izquierda, derecha (no hay otra opción), derecha, derecha y finalmente llegó a la zona 2.\n",
    "\n",
    "El tablero que se presenta en ambos diagramas es el mismo tablero que deberá simular (es fijo). \n",
    "Considere que $P(irse\\;a\\;la\\;izquierda) = 0.5$ a menos que se indique lo contrario.\n",
    "\n",
    "En base a esto responda:\n",
    "\n",
    ">a) ¿La cantidad de bolitas suministradas es suficiente para poder obtener el premio a un precio menor que el original?\n"
   ]
  },
  {
   "cell_type": "code",
   "execution_count": 12,
   "metadata": {},
   "outputs": [
    {
     "name": "stdout",
     "output_type": "stream",
     "text": [
      "Probabilidad de ganar con 7 lanzamientos: 0.5126953 \n",
      "Ganancia esperada: 4.126953 \n"
     ]
    }
   ],
   "source": [
    "# Función de probabilidad siguiendo distribución geométrica\n",
    "fdp <- function(probabilidad, intentos) {\n",
    "    return((1-probabilidad)**(intentos-1)*probabilidad)\n",
    "}\n",
    "\n",
    "# Calculo de probabilidad, considerando combinaciones de éxitos y fallos para cada lanzamiento\n",
    "probabilidad_total <- function(nLanzamientos, zonas_exitosas = 4, zonas_totales = 4, calculo_prob = 1) {\n",
    "    # Caso base, no quedan más zonas para ganar\n",
    "    if (zonas_exitosas == 0) {\n",
    "        return(calculo_prob)\n",
    "    }\n",
    "    # Las zonas que faltan para ganar\n",
    "    otras_zonas <- zonas_exitosas - 1\n",
    "    # Intentos restantes\n",
    "    nIntentos <- nLanzamientos - otras_zonas\n",
    "    suma_probabilidades <- 0\n",
    "    # Asumiendo éxito en i intentos\n",
    "    for (i in seq(1:nIntentos)) {\n",
    "        # Cálculo robabilidad éxito\n",
    "        p <- zonas_exitosas/zonas_totales\n",
    "        fdp <- fdp(p, i)\n",
    "        # Calcular probabilidad zonas siguientes, en profundidad\n",
    "        prob_actual <- probabilidad_total(nLanzamientos-i, zonas_exitosas-1, calculo_prob = calculo_prob * fdp)\n",
    "        # Suma eventos independientes\n",
    "        suma_probabilidades <- suma_probabilidades + prob_actual\n",
    "    }\n",
    "    return(suma_probabilidades)\n",
    "}\n",
    "\n",
    "probabilidad_final <- probabilidad_total(7)\n",
    "cat(\"Probabilidad de ganar con 7 lanzamientos:\", probabilidad_final, \"\\n\")\n",
    "\n",
    "ganancia_esperada <- probabilidad_final * (10 - 1) + (1 - probabilidad_final) * (-1)\n",
    "cat(\"Ganancia esperada:\", ganancia_esperada, \"\\n\")"
   ]
  },
  {
   "cell_type": "markdown",
   "metadata": {},
   "source": [
    "### Respuesta\n",
    "#### 1. Probabilidad zonas finales\n",
    "Siguiendo los caminos posibles, se puede ver que luego de caer en las zonas (A, B, C, D) la probabilidad de ir en cada dirección se divide en dos, siendo cada camino de 12,5%. Luego, para los puntos de la orilla queda simplemente 12,5%, pero a los puntos centrales se puede llegar a cada uno por dos caminos de 12,5%, por lo que para los puntos centrales hay una probabilidad de un 25% de llegar a cada uno. Luego, como de las orillas sólo se puede volver y de los puntos centrales, nuevamente se divide en dos, para la siguiente fase hay una probabilidad de 12,5% + 12,5% = 25% para cada punto central, repitiéndose la situación inicial y completándose así un ciclo. Para obtener la probabilidad final de cada zona A, B, C, D; se puede continuar calculando los caminos posibles o bien se puede considerar que se completan dos ciclos, resultando en que para cada zona final hay un 25% de probabilidad de llegar.\n",
    "\n",
    "#### 2. Probabilidad éxito\n",
    "\n",
    "Inicialmente lo que se quiere es buscar la probabilidad, para ello modelamos el problema de la siguiente forma:\n",
    "\n",
    "La probabilidad va variando según las posibles zonas favorables, en un principio cualquier zona (1, 2, 3, 4) es favorable, por lo que el éxito se produce siempre. Luego, dicha probabilidad es de 3/4; 2/4; 1/4; dependiendo de cuántas zonas falten para ganar. Llamaremos a estos casos como etapas 1, 2, 3, 4; dependiendo de a cuántas zonas se ha acertado en total.\n",
    "\n",
    "Es importante contabilizar adecuadamente la cantidad de lanzamientos necesarios para el éxito en cada etapa, considerando que para los lanzamientos restantes, también se debe considerar que es necesario guardar lanzamientos para tener posibilidad de conseguir las zonas restantes.\n",
    "\n",
    "Es por esto que cada etapa se modela con una distribución geométrica `Geo(p)` siendo `p la probabilidad de obtener la siguiente zona exitosa` (4/4, 3/4, 2/4, 1/4) y nuestra variable aleatoria `X, el número de repeticiones (lanzamientos) hasta acertar a alguna zona exitosa (éxito)`. Así, se tiene su función de probabilidad: P(X = x) = p(1-p)<sup>x-1</sup>\n",
    "\n",
    "Entonces, para calcular la probabilidad se deben obtener todas las combinaciones de lanzamientos, para cada etapa, es decir, si lo vemos como un árbol de posibilidades:\n",
    "\n",
    "1. En la etapa 1 hay sólo una rama, ya que hay 100% probabilidad de éxito, restando 6 lanzamientos\n",
    "2. En la etapa 2 salen cuatro subramas, dependiendo de si se usaron 1, 2, 3 ó 4 lanzamientos, considerando que hay que dejar 2 lanzamientos para poder tener éxito en las etapas restantes.\n",
    "3. En la etapa 3, el árbol se sudivide según el número de lanzamientos usados en la etapa 2.\n",
    "4. En la etapa 4, se utilizan las combinaciones posibles con los lanzamientos restantes.\n",
    "\n",
    "Por ejemplo, si hay un éxito en la etapa 1, 2 y 3, quedan 4 lanzamientos, por lo que para dicha etapa salen 4 ramas.\n",
    "\n",
    "Así, la probabilidad en cada combinación corresponde a la multiplicación de la probabilidad en cada etapa:\n",
    "p<sub>camino</sub> = p<sub>0</sub> * p<sub>1</sub> * p<sub>2</sub>\n",
    "Siendo cada p<sub>i</sub> calculado siguiendo Geo(p<sub>i</sub>).\n",
    "\n",
    "Luego, la probabilidad total, se suman todas las probabilidades independientes para cada camino con todas las combinaciones de caminos posibles según los lanzamientos usados en cada etapa.\n",
    "\n",
    "#### 3. Conclusión\n",
    "Para terminar, se calcula la ganancia esperada con la probabilidad de ganar el juego. Si asignamos `x = costo de 1 juego`, entonces la ganancia se calcula:\n",
    "E[g(x)] = p<sub>ganar</sub> ⋅ (10x - x) + p<sub>perder</sub> ⋅ (-x)\n",
    "\n",
    "Así, se obtiene una ganancia esperada por juego de 4,126953x. Es por ello que se recomienda jugar y las bolitas suministradas sí son suficientes para obtener un premio gastando menos de lo obtenido."
   ]
  },
  {
   "cell_type": "markdown",
   "metadata": {},
   "source": [
    "> b) Para $4 \\leq n \\leq 100$ calcule la probabilidad de ganar el juego al menos 1 vez en función de $n$ bolas. Presente el resultado en un gráfico de Probabilidad v/s $n$.\n",
    "\n",
    "No basta 1 simulación para cada $n$"
   ]
  },
  {
   "cell_type": "code",
   "execution_count": 9,
   "metadata": {},
   "outputs": [
    {
     "data": {
      "text/html": [
       "<table>\n",
       "<caption>A data.frame: 6 × 2</caption>\n",
       "<thead>\n",
       "\t<tr><th scope=col>nBolas</th><th scope=col>probabilidad</th></tr>\n",
       "\t<tr><th scope=col>&lt;dbl&gt;</th><th scope=col>&lt;dbl&gt;</th></tr>\n",
       "</thead>\n",
       "<tbody>\n",
       "\t<tr><td>4</td><td>0.091</td></tr>\n",
       "\t<tr><td>5</td><td>0.227</td></tr>\n",
       "\t<tr><td>6</td><td>0.405</td></tr>\n",
       "\t<tr><td>7</td><td>0.520</td></tr>\n",
       "\t<tr><td>8</td><td>0.640</td></tr>\n",
       "\t<tr><td>9</td><td>0.722</td></tr>\n",
       "</tbody>\n",
       "</table>\n"
      ],
      "text/latex": [
       "A data.frame: 6 × 2\n",
       "\\begin{tabular}{r|ll}\n",
       " nBolas & probabilidad\\\\\n",
       " <dbl> & <dbl>\\\\\n",
       "\\hline\n",
       "\t 4 & 0.091\\\\\n",
       "\t 5 & 0.227\\\\\n",
       "\t 6 & 0.405\\\\\n",
       "\t 7 & 0.520\\\\\n",
       "\t 8 & 0.640\\\\\n",
       "\t 9 & 0.722\\\\\n",
       "\\end{tabular}\n"
      ],
      "text/markdown": [
       "\n",
       "A data.frame: 6 × 2\n",
       "\n",
       "| nBolas &lt;dbl&gt; | probabilidad &lt;dbl&gt; |\n",
       "|---|---|\n",
       "| 4 | 0.091 |\n",
       "| 5 | 0.227 |\n",
       "| 6 | 0.405 |\n",
       "| 7 | 0.520 |\n",
       "| 8 | 0.640 |\n",
       "| 9 | 0.722 |\n",
       "\n"
      ],
      "text/plain": [
       "  nBolas probabilidad\n",
       "1 4      0.091       \n",
       "2 5      0.227       \n",
       "3 6      0.405       \n",
       "4 7      0.520       \n",
       "5 8      0.640       \n",
       "6 9      0.722       "
      ]
     },
     "metadata": {},
     "output_type": "display_data"
    },
    {
     "data": {
      "image/png": "[encoded data removed]",
      "text/plain": [
       "plot without title"
      ]
     },
     "metadata": {},
     "output_type": "display_data"
    }
   ],
   "source": [
    "set.seed(38)\n",
    "\n",
    "lanzar <- function(pos = 0, depth = 0) {\n",
    "    if (depth == 4) {\n",
    "        #cat(' final: ', ceiling(pos/2), '\\n\\n')\n",
    "        return(ceiling(pos/2))\n",
    "    }\n",
    "    lado <- floor(runif(1,1,3))\n",
    "    if (depth == 0) {\n",
    "        pos <- floor(runif(1,1,5))*2-1\n",
    "    }\n",
    "    if (pos == 0) {\n",
    "        pos <- pos+1\n",
    "    } else if (pos == 8) {\n",
    "        pos <- pos-1\n",
    "    } else if (lado == 1) {\n",
    "        pos <- pos-1\n",
    "    } else {\n",
    "        pos <- pos+1\n",
    "    }\n",
    "    return(lanzar(pos, depth+1))\n",
    "}\n",
    "\n",
    "isVictoria <- function(resultados) {\n",
    "    objetivo = c(0, 0, 0, 0)\n",
    "    for (i in 1:length(resultados)) {\n",
    "        actual <- resultados[i]\n",
    "        if (!objetivo[actual]) {\n",
    "            objetivo[actual] <- 1\n",
    "            if (sum(objetivo) == 4) {\n",
    "            return(1)\n",
    "            }\n",
    "        }\n",
    "    }\n",
    "    if (sum(objetivo) == 4) {\n",
    "        return(1)\n",
    "    } else {\n",
    "        return(0)\n",
    "    }\n",
    "}\n",
    "\n",
    "cantidadBolas <- vector(mode = 'numeric', length = 97)\n",
    "prob_nBolas <- vector(mode = 'numeric', length = 97)\n",
    "for (nBolas in 4:100) {\n",
    "    nVictorias <- 0\n",
    "    for (nSimulacion in 1:1000) {\n",
    "        resultados <- c()\n",
    "        # Lanzamientos por intento\n",
    "        for (lanzamiento in 1:nBolas) {\n",
    "            resultados <- c(resultados, lanzar())\n",
    "            if (lanzamiento >= 4) {\n",
    "                win <- isVictoria(resultados)\n",
    "                if (win) {\n",
    "                    nVictorias <- nVictorias+1\n",
    "                    break\n",
    "                }\n",
    "            }\n",
    "        }\n",
    "    }\n",
    "    cantidadBolas[nBolas-3] <- nBolas\n",
    "    prob_nBolas[nBolas-3] <- nVictorias/1000\n",
    "}\n",
    "\n",
    "simulacion <- data.frame(nBolas = cantidadBolas, probabilidad = prob_nBolas)\n",
    "head(simulacion)\n",
    "\n",
    "# Generación de gráfico\n",
    "ggplot(data=simulacion, aes(x=nBolas, y=prob_nBolas)) +\n",
    "ggtitle(\"Simulación de Bingo Ball\") +\n",
    "scale_x_continuous(trans='log2') +\n",
    "xlab(\"Cantidad de bolas utilizadas\") +\n",
    "ylab(\"Probabilidad de ganar\") +\n",
    "geom_smooth(method = \"loess\", se = FALSE)"
   ]
  },
  {
   "cell_type": "markdown",
   "metadata": {},
   "source": [
    ">c) Si a usted le queda 1 bola restante y solamente le falta cubrir la zona 3 determine la zona inicial a la que deberá apuntar el tiro para maximizar la probabilidad de ganar. "
   ]
  },
  {
   "cell_type": "code",
   "execution_count": null,
   "metadata": {},
   "outputs": [],
   "source": []
  },
  {
   "cell_type": "markdown",
   "metadata": {},
   "source": [
    ">d) Determine la probabilidad de alcanzar cada zona final si la bola llega inicialmente a \"A\". Repita el procedimiento pero esta vez utilizando \"C\" como punto de partida."
   ]
  },
  {
   "cell_type": "code",
   "execution_count": null,
   "metadata": {},
   "outputs": [],
   "source": []
  },
  {
   "cell_type": "markdown",
   "metadata": {},
   "source": [
    ">e) Si ahora la bola tiene un 70% de probabilidad de mantener la dirección actual y un 30% de cambiar de dirección ¿Mantiene la respuesta dada en a)?\n",
    "\n",
    "En la zona inicial (A,B,C,D) tiene la misma probabilidad de irse tanto a la izquierda como a la derecha, pero en las siguientes zonas si la bolita fue a la izquierda tiene un 70% de irse a la izquierda y un 30% de irse a la derecha, si después se va a la derecha tiene un 70% de probabilidad de irse a la derecha y así sucesivamente."
   ]
  },
  {
   "cell_type": "code",
   "execution_count": null,
   "metadata": {},
   "outputs": [],
   "source": []
  },
  {
   "cell_type": "markdown",
   "metadata": {},
   "source": [
    "## Reglas del Juego y Comentarios \n",
    "\n",
    "+ Errores ortográficos, de redacción y oraciones ambiguas descontarán parte de su puntaje.\n",
    "+ Las dudas deberán ser publicadas en moodle para que sus compañeros puedan beneficiarse de la respuesta, no se aceptarán dudas vía correo ni redes sociales, esto es para fomentar que todos tengan la misma información.\n",
    "+ Cada día de atraso descuenta 25 puntos de la nota final con un máximo de dos días de retraso (después es 0).\n",
    "+ La versión de R que se usará para revisar es 3.6.1\n",
    "+ La versión de Python que se usará para revisar es 3.6.8\n",
    "+ Use cualquier librería que estime conveniente, si requiere de instalación explicitarlo en el README (y bien explicitado).\n",
    "+ Código comentado para facilitar entendimiento.\n",
    "+ Sea formal y claro con su respuesta, **explique su procedimiento y luego responda.** \n",
    "+ Defina bien las secciones de su notebook, el orden siempre es bueno :) [Tips para usar Markdown](https://github.com/adam-p/markdown-here/wiki/Markdown-Cheatsheet)"
   ]
  }
 ],
 "metadata": {
  "kernelspec": {
   "display_name": "R",
   "language": "R",
   "name": "ir"
  },
  "language_info": {
   "codemirror_mode": "r",
   "file_extension": ".r",
   "mimetype": "text/x-r-source",
   "name": "R",
   "pygments_lexer": "r",
   "version": "3.6.1"
  }
 },
 "nbformat": 4,
 "nbformat_minor": 4
}
