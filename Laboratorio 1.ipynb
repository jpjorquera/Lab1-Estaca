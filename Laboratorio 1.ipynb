{
 "cells": [
  {
   "cell_type": "markdown",
   "metadata": {},
   "source": [
    "<table style=\"width:100%\">\n",
    "  <tr>\n",
    "    <th align=\"right\"><img src=\"img/dilogo.png\" style=\"float:left;height:90px\"></th>\n",
    "    <th align=\"center\">\n",
    "    <h1 align=\"center\">Laboratorio 1</h1>\n",
    "    <h2 align=\"center\">Profesor: Ricardo Ñanculef</h2>\n",
    "    <h3 align=\"center\">Ayudante: Gabriel Ortega</h3>\n",
    "    <h3 align=\"center\">Juan Pablo Jorquera 201573533-6</h3>\n",
    "    <h3 align=\"center\">David Medel 201573548-4</h3>\n",
    "    <h3 align=\"center\">Agosto de 2019</h3>\n",
    "    </th> \n",
    "    <th align=\"left\"><img src=\"img/usmlogo.png\" style=\"float:right;height:85px\"></th>\n",
    "  </tr>"
   ]
  },
  {
   "cell_type": "markdown",
   "metadata": {},
   "source": [
    "> <font size = \"+2\"><b>Antes de corregir se correrá su notebook utilizando la función Cell $\\rightarrow$ Run All.</b></font>\n",
    "\n",
    "\n",
    "## Instrucciones\n",
    "\n",
    "La modalidad de trabajo será mediante el uso de jupyter notebook. El notebook debe ser desarrollado en parejas o individual y ser entregado el 16 de septiembre de 2019.\n",
    "\n",
    "La **modalidad de entrega será un archivo Apellido1_Apellido2_Lab1.zip** que contenga un notebook que incluya todas las preguntas con sus respectivas respuestas, un README que indique la forma correcta de ejecutar su notebook y cualquier archivo/carpeta extra que considere necesario para el correcto funcionamiento de su tarea (no es necesario adjuntar los .csv que se utilicen para trabajar). El laboratorio puede ser trabajado tanto en lenguaje R como en python 3 (para los que usen python 2.X, absténganse a las consecuencias). Lea bien el enunciado.\n",
    "\n",
    "\n",
    "**Cualquier copia detectada implicará nota 0 en el laboratorio correspondiente y se notificará la situación al profesor.**\n",
    "\n",
    "\n"
   ]
  },
  {
   "cell_type": "markdown",
   "metadata": {},
   "source": [
    "## 1. Limpiando Datos (15p)\n",
    "\n",
    "Como se mencionó en la ayudantía de laboratorio, la limpieza de datos es algo importante que se debe realizar antes de trabajar con un conjunto de datos, en esta sección trabajará con el dataset \"limpieza.csv\". Se espera que usted sea capaz de evidenciar las fallas dentro de este dataset y después de realizar la limpieza presente el dataset final resultante para comparar. \n",
    "\n",
    ">**Importante:** Si bien la limpieza es subjetiva, no optará a todo el puntaje de esta sección si presenta una limpieza incompleta (se observa que su dataset final se puede limpiar más a simple vista)."
   ]
  },
  {
   "cell_type": "code",
   "execution_count": 1,
   "metadata": {},
   "outputs": [
    {
     "name": "stderr",
     "output_type": "stream",
     "text": [
      "── \u001b[1mAttaching packages\u001b[22m ─────────────────────────────────────── tidyverse 1.2.1 ──\n",
      "\u001b[32m✔\u001b[39m \u001b[34mggplot2\u001b[39m 3.2.1     \u001b[32m✔\u001b[39m \u001b[34mpurrr  \u001b[39m 0.3.2\n",
      "\u001b[32m✔\u001b[39m \u001b[34mtibble \u001b[39m 2.1.3     \u001b[32m✔\u001b[39m \u001b[34mdplyr  \u001b[39m 0.8.3\n",
      "\u001b[32m✔\u001b[39m \u001b[34mtidyr  \u001b[39m 0.8.3     \u001b[32m✔\u001b[39m \u001b[34mstringr\u001b[39m 1.4.0\n",
      "\u001b[32m✔\u001b[39m \u001b[34mreadr  \u001b[39m 1.3.1     \u001b[32m✔\u001b[39m \u001b[34mforcats\u001b[39m 0.4.0\n",
      "── \u001b[1mConflicts\u001b[22m ────────────────────────────────────────── tidyverse_conflicts() ──\n",
      "\u001b[31m✖\u001b[39m \u001b[34mdplyr\u001b[39m::\u001b[32mfilter()\u001b[39m masks \u001b[34mstats\u001b[39m::filter()\n",
      "\u001b[31m✖\u001b[39m \u001b[34mdplyr\u001b[39m::\u001b[32mlag()\u001b[39m    masks \u001b[34mstats\u001b[39m::lag()\n"
     ]
    }
   ],
   "source": [
    "library(tidyverse)"
   ]
  },
  {
   "cell_type": "code",
   "execution_count": 2,
   "metadata": {},
   "outputs": [
    {
     "data": {
      "text/html": [
       "<table>\n",
       "<caption>A data.frame: 40 × 6</caption>\n",
       "<thead>\n",
       "\t<tr><th scope=col>genero</th><th scope=col>mascota</th><th scope=col>edad</th><th scope=col>tipo_trabajo</th><th scope=col>sueldo</th><th scope=col>e_civil</th></tr>\n",
       "\t<tr><th scope=col>&lt;chr&gt;</th><th scope=col>&lt;chr&gt;</th><th scope=col>&lt;int&gt;</th><th scope=col>&lt;chr&gt;</th><th scope=col>&lt;int&gt;</th><th scope=col>&lt;chr&gt;</th></tr>\n",
       "</thead>\n",
       "<tbody>\n",
       "\t<tr><td>masculino</td><td>gato </td><td>44</td><td>dependiente  </td><td>500000</td><td>viud@   </td></tr>\n",
       "\t<tr><td>masculino</td><td>no   </td><td>70</td><td>dependiente  </td><td>100000</td><td>casad@  </td></tr>\n",
       "\t<tr><td>femenino </td><td>no   </td><td>54</td><td>dependiente  </td><td>500000</td><td>solter@ </td></tr>\n",
       "\t<tr><td>masculino</td><td>perro</td><td>47</td><td>independiente</td><td>200000</td><td>separad@</td></tr>\n",
       "\t<tr><td>femenino </td><td>gato </td><td>33</td><td>dependiente  </td><td>500000</td><td>casad@  </td></tr>\n",
       "\t<tr><td>masculino</td><td>perro</td><td>64</td><td>independiente</td><td>200000</td><td>casad@  </td></tr>\n",
       "\t<tr><td>masculino</td><td>perro</td><td>18</td><td>dependiente  </td><td>500000</td><td>viud@   </td></tr>\n",
       "\t<tr><td>femenino </td><td>gato </td><td>67</td><td>independiente</td><td>500000</td><td>viud@   </td></tr>\n",
       "\t<tr><td>masculino</td><td>gato </td><td>45</td><td>independiente</td><td>200000</td><td>separad@</td></tr>\n",
       "\t<tr><td>femenino </td><td>perro</td><td>40</td><td>independiente</td><td>200000</td><td>viud@   </td></tr>\n",
       "\t<tr><td>masculino</td><td>perro</td><td>48</td><td>dependiente  </td><td>200000</td><td>separad@</td></tr>\n",
       "\t<tr><td>masculino</td><td>gato </td><td>19</td><td>dependiente  </td><td>500000</td><td>viud@   </td></tr>\n",
       "\t<tr><td>femenino </td><td>perro</td><td>44</td><td>independiente</td><td>300000</td><td>viud@   </td></tr>\n",
       "\t<tr><td>femenino </td><td>no   </td><td>50</td><td>independiente</td><td>200000</td><td>solter@ </td></tr>\n",
       "\t<tr><td>femenino </td><td>gato </td><td>45</td><td>independiente</td><td>300000</td><td>casad@  </td></tr>\n",
       "\t<tr><td>masculino</td><td>gato </td><td>61</td><td>independiente</td><td>100000</td><td>separad@</td></tr>\n",
       "\t<tr><td>femenino </td><td>gato </td><td>49</td><td>independiente</td><td>100000</td><td>casad@  </td></tr>\n",
       "\t<tr><td>masculino</td><td>perro</td><td>28</td><td>dependiente  </td><td>500000</td><td>solter@ </td></tr>\n",
       "\t<tr><td>femenino </td><td>perro</td><td>66</td><td>independiente</td><td>500000</td><td>casad@  </td></tr>\n",
       "\t<tr><td>masculino</td><td>perro</td><td>37</td><td>independiente</td><td>200000</td><td>separad@</td></tr>\n",
       "\t<tr><td>femenino </td><td>perro</td><td>44</td><td>dependiente  </td><td>100000</td><td>casad@  </td></tr>\n",
       "\t<tr><td>femenino </td><td>perro</td><td>41</td><td>dependiente  </td><td>300000</td><td>viud@   </td></tr>\n",
       "\t<tr><td>femenino </td><td>gato </td><td>45</td><td>dependiente  </td><td>500000</td><td>viud@   </td></tr>\n",
       "\t<tr><td>masculino</td><td>gato </td><td>61</td><td>dependiente  </td><td>100000</td><td>viud@   </td></tr>\n",
       "\t<tr><td>masculino</td><td>no   </td><td>24</td><td>dependiente  </td><td>200000</td><td>viud@   </td></tr>\n",
       "\t<tr><td>femenino </td><td>gato </td><td>68</td><td>independiente</td><td>100000</td><td>viud@   </td></tr>\n",
       "\t<tr><td>femenino </td><td>perro</td><td>30</td><td>independiente</td><td>500000</td><td>solter@ </td></tr>\n",
       "\t<tr><td>masculino</td><td>no   </td><td>60</td><td>independiente</td><td>100000</td><td>casad@  </td></tr>\n",
       "\t<tr><td>masculino</td><td>perro</td><td>33</td><td>independiente</td><td>100000</td><td>casad@  </td></tr>\n",
       "\t<tr><td>femenino </td><td>perro</td><td>18</td><td>independiente</td><td>300000</td><td>casad@  </td></tr>\n",
       "\t<tr><td>femenino </td><td>gato </td><td>27</td><td>independiente</td><td>100000</td><td>casad@  </td></tr>\n",
       "\t<tr><td>masculino</td><td>perro</td><td>24</td><td>independiente</td><td>500000</td><td>solter@ </td></tr>\n",
       "\t<tr><td>femenino </td><td>no   </td><td>45</td><td>dependiente  </td><td>200000</td><td>viud@   </td></tr>\n",
       "\t<tr><td>femenino </td><td>gato </td><td>69</td><td>dependiente  </td><td>300000</td><td>separad@</td></tr>\n",
       "\t<tr><td>femenino </td><td>perro</td><td>70</td><td>independiente</td><td>100000</td><td>separad@</td></tr>\n",
       "\t<tr><td>masculino</td><td>no   </td><td>29</td><td>independiente</td><td>500000</td><td>viud@   </td></tr>\n",
       "\t<tr><td>masculino</td><td>perro</td><td>40</td><td>independiente</td><td>100000</td><td>casad@  </td></tr>\n",
       "\t<tr><td>masculino</td><td>perro</td><td>58</td><td>independiente</td><td>300000</td><td>solter@ </td></tr>\n",
       "\t<tr><td>femenino </td><td>gato </td><td>60</td><td>independiente</td><td>300000</td><td>separad@</td></tr>\n",
       "\t<tr><td>femenino </td><td>gato </td><td>67</td><td>independiente</td><td>200000</td><td>separad@</td></tr>\n",
       "</tbody>\n",
       "</table>\n"
      ],
      "text/latex": [
       "A data.frame: 40 × 6\n",
       "\\begin{tabular}{r|llllll}\n",
       " genero & mascota & edad & tipo\\_trabajo & sueldo & e\\_civil\\\\\n",
       " <chr> & <chr> & <int> & <chr> & <int> & <chr>\\\\\n",
       "\\hline\n",
       "\t masculino & gato  & 44 & dependiente   & 500000 & viud@   \\\\\n",
       "\t masculino & no    & 70 & dependiente   & 100000 & casad@  \\\\\n",
       "\t femenino  & no    & 54 & dependiente   & 500000 & solter@ \\\\\n",
       "\t masculino & perro & 47 & independiente & 200000 & separad@\\\\\n",
       "\t femenino  & gato  & 33 & dependiente   & 500000 & casad@  \\\\\n",
       "\t masculino & perro & 64 & independiente & 200000 & casad@  \\\\\n",
       "\t masculino & perro & 18 & dependiente   & 500000 & viud@   \\\\\n",
       "\t femenino  & gato  & 67 & independiente & 500000 & viud@   \\\\\n",
       "\t masculino & gato  & 45 & independiente & 200000 & separad@\\\\\n",
       "\t femenino  & perro & 40 & independiente & 200000 & viud@   \\\\\n",
       "\t masculino & perro & 48 & dependiente   & 200000 & separad@\\\\\n",
       "\t masculino & gato  & 19 & dependiente   & 500000 & viud@   \\\\\n",
       "\t femenino  & perro & 44 & independiente & 300000 & viud@   \\\\\n",
       "\t femenino  & no    & 50 & independiente & 200000 & solter@ \\\\\n",
       "\t femenino  & gato  & 45 & independiente & 300000 & casad@  \\\\\n",
       "\t masculino & gato  & 61 & independiente & 100000 & separad@\\\\\n",
       "\t femenino  & gato  & 49 & independiente & 100000 & casad@  \\\\\n",
       "\t masculino & perro & 28 & dependiente   & 500000 & solter@ \\\\\n",
       "\t femenino  & perro & 66 & independiente & 500000 & casad@  \\\\\n",
       "\t masculino & perro & 37 & independiente & 200000 & separad@\\\\\n",
       "\t femenino  & perro & 44 & dependiente   & 100000 & casad@  \\\\\n",
       "\t femenino  & perro & 41 & dependiente   & 300000 & viud@   \\\\\n",
       "\t femenino  & gato  & 45 & dependiente   & 500000 & viud@   \\\\\n",
       "\t masculino & gato  & 61 & dependiente   & 100000 & viud@   \\\\\n",
       "\t masculino & no    & 24 & dependiente   & 200000 & viud@   \\\\\n",
       "\t femenino  & gato  & 68 & independiente & 100000 & viud@   \\\\\n",
       "\t femenino  & perro & 30 & independiente & 500000 & solter@ \\\\\n",
       "\t masculino & no    & 60 & independiente & 100000 & casad@  \\\\\n",
       "\t masculino & perro & 33 & independiente & 100000 & casad@  \\\\\n",
       "\t femenino  & perro & 18 & independiente & 300000 & casad@  \\\\\n",
       "\t femenino  & gato  & 27 & independiente & 100000 & casad@  \\\\\n",
       "\t masculino & perro & 24 & independiente & 500000 & solter@ \\\\\n",
       "\t femenino  & no    & 45 & dependiente   & 200000 & viud@   \\\\\n",
       "\t femenino  & gato  & 69 & dependiente   & 300000 & separad@\\\\\n",
       "\t femenino  & perro & 70 & independiente & 100000 & separad@\\\\\n",
       "\t masculino & no    & 29 & independiente & 500000 & viud@   \\\\\n",
       "\t masculino & perro & 40 & independiente & 100000 & casad@  \\\\\n",
       "\t masculino & perro & 58 & independiente & 300000 & solter@ \\\\\n",
       "\t femenino  & gato  & 60 & independiente & 300000 & separad@\\\\\n",
       "\t femenino  & gato  & 67 & independiente & 200000 & separad@\\\\\n",
       "\\end{tabular}\n"
      ],
      "text/markdown": [
       "\n",
       "A data.frame: 40 × 6\n",
       "\n",
       "| genero &lt;chr&gt; | mascota &lt;chr&gt; | edad &lt;int&gt; | tipo_trabajo &lt;chr&gt; | sueldo &lt;int&gt; | e_civil &lt;chr&gt; |\n",
       "|---|---|---|---|---|---|\n",
       "| masculino | gato  | 44 | dependiente   | 500000 | viud@    |\n",
       "| masculino | no    | 70 | dependiente   | 100000 | casad@   |\n",
       "| femenino  | no    | 54 | dependiente   | 500000 | solter@  |\n",
       "| masculino | perro | 47 | independiente | 200000 | separad@ |\n",
       "| femenino  | gato  | 33 | dependiente   | 500000 | casad@   |\n",
       "| masculino | perro | 64 | independiente | 200000 | casad@   |\n",
       "| masculino | perro | 18 | dependiente   | 500000 | viud@    |\n",
       "| femenino  | gato  | 67 | independiente | 500000 | viud@    |\n",
       "| masculino | gato  | 45 | independiente | 200000 | separad@ |\n",
       "| femenino  | perro | 40 | independiente | 200000 | viud@    |\n",
       "| masculino | perro | 48 | dependiente   | 200000 | separad@ |\n",
       "| masculino | gato  | 19 | dependiente   | 500000 | viud@    |\n",
       "| femenino  | perro | 44 | independiente | 300000 | viud@    |\n",
       "| femenino  | no    | 50 | independiente | 200000 | solter@  |\n",
       "| femenino  | gato  | 45 | independiente | 300000 | casad@   |\n",
       "| masculino | gato  | 61 | independiente | 100000 | separad@ |\n",
       "| femenino  | gato  | 49 | independiente | 100000 | casad@   |\n",
       "| masculino | perro | 28 | dependiente   | 500000 | solter@  |\n",
       "| femenino  | perro | 66 | independiente | 500000 | casad@   |\n",
       "| masculino | perro | 37 | independiente | 200000 | separad@ |\n",
       "| femenino  | perro | 44 | dependiente   | 100000 | casad@   |\n",
       "| femenino  | perro | 41 | dependiente   | 300000 | viud@    |\n",
       "| femenino  | gato  | 45 | dependiente   | 500000 | viud@    |\n",
       "| masculino | gato  | 61 | dependiente   | 100000 | viud@    |\n",
       "| masculino | no    | 24 | dependiente   | 200000 | viud@    |\n",
       "| femenino  | gato  | 68 | independiente | 100000 | viud@    |\n",
       "| femenino  | perro | 30 | independiente | 500000 | solter@  |\n",
       "| masculino | no    | 60 | independiente | 100000 | casad@   |\n",
       "| masculino | perro | 33 | independiente | 100000 | casad@   |\n",
       "| femenino  | perro | 18 | independiente | 300000 | casad@   |\n",
       "| femenino  | gato  | 27 | independiente | 100000 | casad@   |\n",
       "| masculino | perro | 24 | independiente | 500000 | solter@  |\n",
       "| femenino  | no    | 45 | dependiente   | 200000 | viud@    |\n",
       "| femenino  | gato  | 69 | dependiente   | 300000 | separad@ |\n",
       "| femenino  | perro | 70 | independiente | 100000 | separad@ |\n",
       "| masculino | no    | 29 | independiente | 500000 | viud@    |\n",
       "| masculino | perro | 40 | independiente | 100000 | casad@   |\n",
       "| masculino | perro | 58 | independiente | 300000 | solter@  |\n",
       "| femenino  | gato  | 60 | independiente | 300000 | separad@ |\n",
       "| femenino  | gato  | 67 | independiente | 200000 | separad@ |\n",
       "\n"
      ],
      "text/plain": [
       "   genero    mascota edad tipo_trabajo  sueldo e_civil \n",
       "1  masculino gato    44   dependiente   500000 viud@   \n",
       "2  masculino no      70   dependiente   100000 casad@  \n",
       "3  femenino  no      54   dependiente   500000 solter@ \n",
       "4  masculino perro   47   independiente 200000 separad@\n",
       "5  femenino  gato    33   dependiente   500000 casad@  \n",
       "6  masculino perro   64   independiente 200000 casad@  \n",
       "7  masculino perro   18   dependiente   500000 viud@   \n",
       "8  femenino  gato    67   independiente 500000 viud@   \n",
       "9  masculino gato    45   independiente 200000 separad@\n",
       "10 femenino  perro   40   independiente 200000 viud@   \n",
       "11 masculino perro   48   dependiente   200000 separad@\n",
       "12 masculino gato    19   dependiente   500000 viud@   \n",
       "13 femenino  perro   44   independiente 300000 viud@   \n",
       "14 femenino  no      50   independiente 200000 solter@ \n",
       "15 femenino  gato    45   independiente 300000 casad@  \n",
       "16 masculino gato    61   independiente 100000 separad@\n",
       "17 femenino  gato    49   independiente 100000 casad@  \n",
       "18 masculino perro   28   dependiente   500000 solter@ \n",
       "19 femenino  perro   66   independiente 500000 casad@  \n",
       "20 masculino perro   37   independiente 200000 separad@\n",
       "21 femenino  perro   44   dependiente   100000 casad@  \n",
       "22 femenino  perro   41   dependiente   300000 viud@   \n",
       "23 femenino  gato    45   dependiente   500000 viud@   \n",
       "24 masculino gato    61   dependiente   100000 viud@   \n",
       "25 masculino no      24   dependiente   200000 viud@   \n",
       "26 femenino  gato    68   independiente 100000 viud@   \n",
       "27 femenino  perro   30   independiente 500000 solter@ \n",
       "28 masculino no      60   independiente 100000 casad@  \n",
       "29 masculino perro   33   independiente 100000 casad@  \n",
       "30 femenino  perro   18   independiente 300000 casad@  \n",
       "31 femenino  gato    27   independiente 100000 casad@  \n",
       "32 masculino perro   24   independiente 500000 solter@ \n",
       "33 femenino  no      45   dependiente   200000 viud@   \n",
       "34 femenino  gato    69   dependiente   300000 separad@\n",
       "35 femenino  perro   70   independiente 100000 separad@\n",
       "36 masculino no      29   independiente 500000 viud@   \n",
       "37 masculino perro   40   independiente 100000 casad@  \n",
       "38 masculino perro   58   independiente 300000 solter@ \n",
       "39 femenino  gato    60   independiente 300000 separad@\n",
       "40 femenino  gato    67   independiente 200000 separad@"
      ]
     },
     "metadata": {},
     "output_type": "display_data"
    }
   ],
   "source": [
    "limpieza <- read.csv(\"limpieza.csv\")\n",
    "\n",
    "# Limpieza de tabla\n",
    "limpieza <- limpieza %>%\n",
    "# Normalizar columna genero con variantes a 'masculino' y 'femenino'\n",
    "    mutate(genero = str_replace(genero, 'hombre', 'masculino')) %>%\n",
    "    mutate(genero = str_replace(genero, 'Hombre', 'masculino')) %>%\n",
    "    mutate(genero = str_replace(genero, 'Masculino', 'masculino')) %>%\n",
    "    mutate(genero = str_replace(genero, 'mujer', 'femenino')) %>%\n",
    "    mutate(genero = str_replace(genero, 'Mujer', 'femenino')) %>%\n",
    "    mutate(genero = str_replace(genero, 'Femenino', 'femenino')) %>%\n",
    "# Normalizar columna mascota a 'perro' y 'gato'\n",
    "    mutate(mascota = str_replace(mascota, 'Perro', 'perro')) %>%\n",
    "    mutate(mascota = str_replace(mascota, 'Gato', 'gato')) %>%\n",
    "# Filtro de personas anómalas con edad 0\n",
    "    filter(edad > 0) %>%\n",
    "# Cambiar tipo de columna estado civil\n",
    "    mutate(e_civil = as.character(e_civil)) %>%\n",
    "# Cambiar tipo de columna edad\n",
    "    mutate(edad = as.integer(edad)) %>%\n",
    "# Separar columna trabajo en tipo de trabajo y sueldo\n",
    "    separate(trabajo, c(\"tipo_trabajo\", \"sueldo\"), \"/\") %>%\n",
    "# Limpiar y convertir nueva columna sueldo a numerico\n",
    "    mutate(sueldo = as.integer(substring(sueldo, 2)))\n",
    "\n",
    "limpieza"
   ]
  },
  {
   "cell_type": "markdown",
   "metadata": {},
   "source": [
    "## 2. Apps en la Playstore (35p)\n",
    "\n",
    "Google Play Store actualmente posee una enorme cantidad de aplicaciones que pueden ser descargadas por los usuarios. En esta sección utilizará una pequeña parte de dicho universo y trabajará principalmente en análisis exploratorio de los datos para responder las preguntas que verá a continuación. \n",
    "\n",
    "El archivo a utilizar es \"googleplaystore.csv\" y para información extra puede referirse a [este enlace](https://www.kaggle.com/lava18/google-play-store-apps)\n",
    "\n",
    ">PD: Hay 1 fila mala en el dataset, no es difícil de identificar."
   ]
  },
  {
   "cell_type": "markdown",
   "metadata": {},
   "source": [
    ">a) ¿Es posible observar alguna concentración de ratings de las aplicaciones en torno a un intervalo? Si su respuesta es sí, ¿Qué rango/s tiene/n mayor concentración?"
   ]
  },
  {
   "cell_type": "code",
   "execution_count": null,
   "metadata": {},
   "outputs": [],
   "source": []
  },
  {
   "cell_type": "markdown",
   "metadata": {},
   "source": [
    ">b) ¿Qué grupo tiene ratings más dispersos, las aplicaciones que pertenecen a la categoría de \"EDUCATION\" o las que pertenecen a la categoría de \"MEDICAL\"? Utilice al menos 1 recurso visual y 1 medida de tendencia para responder. "
   ]
  },
  {
   "cell_type": "code",
   "execution_count": null,
   "metadata": {},
   "outputs": [],
   "source": []
  },
  {
   "cell_type": "markdown",
   "metadata": {},
   "source": [
    ">c) Construya un boxplot sobre la cantidad de instalaciones de las aplicaciones cuyo rating sea menor a 4 y otro para las aplicacions cuyo rating sea mayor o igual a 4, compare lo que observa. \n",
    "\n",
    "**Hint:** Podría aplicar algún cambio de escala a los valores. ¿Cuál? No log sé. "
   ]
  },
  {
   "cell_type": "code",
   "execution_count": null,
   "metadata": {},
   "outputs": [],
   "source": []
  },
  {
   "cell_type": "markdown",
   "metadata": {},
   "source": [
    ">d) Para cada categoría obtenga el rango, la deviación estándar, varianza del rating y la cantidad de aplicaciones pertenecientes a dicha categoría y responda:\n",
    "\n",
    "* De las aplicaciones de mayor rango (fíjelo usted) ¿Cuáles presentan mayor y menor variabilidad?\n",
    "* ¿Cuál es la principal diferencia entre las aplicaciones cuyo rango es inferior a 2.5 y las cuyo rango es mayor a dicho valor? (Si usted no nota una diferencia significativa es una respuesta válida, siempre y cuando esté fundamentada)\n",
    "* ¿Es posible concluir que las categorías con una mayor cantidad de aplicaciones presentan una mayor variabilidad de rating que aquellas con menos aplicaciones? "
   ]
  },
  {
   "cell_type": "code",
   "execution_count": null,
   "metadata": {},
   "outputs": [],
   "source": []
  },
  {
   "cell_type": "markdown",
   "metadata": {},
   "source": [
    ">e) Responda las siguientes preguntas: \n",
    "\n",
    "* Si mi aplicación pesa mucho ¿es probable que sea mal calificada?\n",
    "* Si mi aplicación tiene una mayor cantidad de instalaciones ¿su rating será más alto?\n",
    "* Si mi app está enfocada en alguna categoría en especial ¿tendrá una mayor cantidad de instalaciones?\n",
    "* ¿Existe alguna categoría donde se aprecien más aplicaciones pagas que gratuitas?\n",
    "\n",
    "Fundamente su respuesta utilizando herramientas visuales o estadísticas. "
   ]
  },
  {
   "cell_type": "code",
   "execution_count": null,
   "metadata": {},
   "outputs": [],
   "source": []
  },
  {
   "cell_type": "markdown",
   "metadata": {},
   "source": [
    ">f) Construya un histograma de los tamaños de las aplicaciones ¿Se aprecia algún tipo de sesgo en la distribución?."
   ]
  },
  {
   "cell_type": "code",
   "execution_count": null,
   "metadata": {},
   "outputs": [],
   "source": []
  },
  {
   "cell_type": "markdown",
   "metadata": {},
   "source": [
    ">g) Haga un histograma para los ratings de cada categoría. ¿Observa algún patrón respecto al sesgo de los histogramas obtenidos?"
   ]
  },
  {
   "cell_type": "code",
   "execution_count": null,
   "metadata": {},
   "outputs": [],
   "source": []
  },
  {
   "cell_type": "markdown",
   "metadata": {},
   "source": [
    ">h) Construya un heatmap (debe investigarlo por su cuenta) de las aplicaciones pagas donde la dimensión de color sea el rating y los ejes sean el precio y el tamaño de la aplicación. Concluya respecto a lo observado."
   ]
  },
  {
   "cell_type": "code",
   "execution_count": null,
   "metadata": {},
   "outputs": [],
   "source": []
  },
  {
   "cell_type": "markdown",
   "metadata": {},
   "source": [
    "## 3. Aproximando el perímetro de una circunferencia (20p)\n",
    "\n",
    "De sus cursos de matemática seguro habrá escuchado acerca de las coordenas polares, un cambio de coordenadas donde representamos los puntos en función de un radio y un ángulo. \n",
    "\n",
    "$$\n",
    "x = r\\cdot cos(\\theta)\n",
    "$$\n",
    "\n",
    "$$\n",
    "y = r\\cdot sin(\\theta)\n",
    "$$\n",
    "\n",
    "Utilizando estas coordenadas, usted posicionará $n$ puntos aleatorios dentro de la circunferencia lo que generará un polígono irregular, para cada $n \\in [4,\\infty]$ elegido debe simular una cantidad suficiente de polígonos (800-1000) que utilizará para aproximar el perímetro de la circunferencia, luego calculará el perímetro promedio y la desviación estándar para cada $n$ utilizado.\n",
    "\n",
    "\n",
    "Una vez haya simulado con varios $n$ distintos grafique el perímetro promedio junto a su margen de error $\\bar{x} \\pm \\sigma$ y el perímetro real de la circunferencia. Utilice la cantidad de lados del polígono como el eje X de su gráfico.\n",
    "\n",
    "> El gráfico involucra 4 lineas: promedio del perímetro, perímetro real, límite superior del error y límite inferior del error.\n",
    "\n",
    "Recuerde explicar cómo utilizará el método de los polígonos para aproximar el perímetro de la circunferencia y concluya a partir de lo que observa en el gráfico.\n",
    "\n",
    "Algunos ejemplos de $n = 5$"
   ]
  },
  {
   "cell_type": "markdown",
   "metadata": {},
   "source": [
    "<table style=\"width:100%\">\n",
    "  <tr>\n",
    "    <th align=\"right\"><img src=\"img/ej1.png\" style=\"float:left;height:120px\"></th>\n",
    "    <th align=\"center\"><img src=\"img/ej2.png\" style=\"float:left;height:120px\"></th> \n",
    "    <th align=\"left\"><img src=\"img/ej3.png\" style=\"float:right;height:120px\"></th>\n",
    "  </tr>\n",
    "    \n",
    "Para facilitar la construcción del polígono se sugiere generar los $n$ puntos y luego conectarlos en sentido antihorario/horario."
   ]
  },
  {
   "cell_type": "code",
   "execution_count": 20,
   "metadata": {},
   "outputs": [
    {
     "name": "stdout",
     "output_type": "stream",
     "text": [
      "[1] \"Hay duplicados\"\n",
      "[1] \"Hay duplicados\"\n",
      "[1] \"Hay duplicados\"\n",
      "[1] \"Hay duplicados\"\n",
      "[1] \"Hay duplicados\"\n",
      "[1] \"Hay duplicados\"\n",
      "[1] \"Hay duplicados\"\n"
     ]
    },
    {
     "data": {
      "text/html": [
       "<table>\n",
       "<caption>A data.frame: 6 × 3</caption>\n",
       "<thead>\n",
       "\t<tr><th scope=col>cantidadPuntos</th><th scope=col>per_prom</th><th scope=col>sd</th></tr>\n",
       "\t<tr><th scope=col>&lt;dbl&gt;</th><th scope=col>&lt;dbl&gt;</th><th scope=col>&lt;dbl&gt;</th></tr>\n",
       "</thead>\n",
       "<tbody>\n",
       "\t<tr><td> 4</td><td>4.535171</td><td>0.92681808</td></tr>\n",
       "\t<tr><td> 8</td><td>5.641721</td><td>0.36493563</td></tr>\n",
       "\t<tr><td>12</td><td>5.948989</td><td>0.18614743</td></tr>\n",
       "\t<tr><td>16</td><td>6.084008</td><td>0.10909905</td></tr>\n",
       "\t<tr><td>20</td><td>6.148487</td><td>0.07040633</td></tr>\n",
       "\t<tr><td>24</td><td>6.190487</td><td>0.04914604</td></tr>\n",
       "</tbody>\n",
       "</table>\n"
      ],
      "text/latex": [
       "A data.frame: 6 × 3\n",
       "\\begin{tabular}{r|lll}\n",
       " cantidadPuntos & per\\_prom & sd\\\\\n",
       " <dbl> & <dbl> & <dbl>\\\\\n",
       "\\hline\n",
       "\t  4 & 4.535171 & 0.92681808\\\\\n",
       "\t  8 & 5.641721 & 0.36493563\\\\\n",
       "\t 12 & 5.948989 & 0.18614743\\\\\n",
       "\t 16 & 6.084008 & 0.10909905\\\\\n",
       "\t 20 & 6.148487 & 0.07040633\\\\\n",
       "\t 24 & 6.190487 & 0.04914604\\\\\n",
       "\\end{tabular}\n"
      ],
      "text/markdown": [
       "\n",
       "A data.frame: 6 × 3\n",
       "\n",
       "| cantidadPuntos &lt;dbl&gt; | per_prom &lt;dbl&gt; | sd &lt;dbl&gt; |\n",
       "|---|---|---|\n",
       "|  4 | 4.535171 | 0.92681808 |\n",
       "|  8 | 5.641721 | 0.36493563 |\n",
       "| 12 | 5.948989 | 0.18614743 |\n",
       "| 16 | 6.084008 | 0.10909905 |\n",
       "| 20 | 6.148487 | 0.07040633 |\n",
       "| 24 | 6.190487 | 0.04914604 |\n",
       "\n"
      ],
      "text/plain": [
       "  cantidadPuntos per_prom sd        \n",
       "1  4             4.535171 0.92681808\n",
       "2  8             5.641721 0.36493563\n",
       "3 12             5.948989 0.18614743\n",
       "4 16             6.084008 0.10909905\n",
       "5 20             6.148487 0.07040633\n",
       "6 24             6.190487 0.04914604"
      ]
     },
     "metadata": {},
     "output_type": "display_data"
    }
   ],
   "source": [
    "library(tidyverse)\n",
    "library(ggplot2)\n",
    "\n",
    "set.seed(321)\n",
    "\n",
    "tieneDuplicados <- function(puntos) {\n",
    "  if (anyDuplicated(puntos)) {\n",
    "    print('Hay duplicados')\n",
    "  } else {\n",
    "    #print('No hay duplicados')\n",
    "  }\n",
    "}\n",
    "\n",
    "generarPuntos <- function(nPuntos){\n",
    "  puntos <- runif(nPuntos, 0, 2*pi)\n",
    "  puntos <- sort(puntos)\n",
    "  tieneDuplicados(puntos)\n",
    "  return(puntos)\n",
    "}\n",
    "\n",
    "obtenerPerimetros <- function(nPuntos){\n",
    "  perimetros <- vector(mode = 'numeric', length = 800)\n",
    "  for (i in 1:800) {\n",
    "    puntos <- generarPuntos(nPuntos)\n",
    "    perimetro <- calcularPerimetro(puntos)\n",
    "    perimetros[i] <- perimetro\n",
    "  }\n",
    "  return(perimetros)\n",
    "}\n",
    "\n",
    "calcularPerimetro <- function(puntos){\n",
    "  puntos <- sort(puntos)\n",
    "  # Calcular distancia entre puntos\n",
    "  perimetro <- 0\n",
    "  for (i in 1:length(puntos)) {\n",
    "    if (i == length(puntos)) {\n",
    "      delta_x <- cos(puntos[i]) - cos(puntos[1])\n",
    "      delta_y <- sin(puntos[i]) - sin(puntos[1])\n",
    "    } else {\n",
    "      delta_x <- cos(puntos[i]) - cos(puntos[i+1])\n",
    "      delta_y <- sin(puntos[i]) - sin(puntos[i+1])\n",
    "    }\n",
    "    distancia <- sqrt(delta_x**2 + delta_y**2)\n",
    "    perimetro <- perimetro + distancia\n",
    "  }\n",
    "  \n",
    "  return(perimetro)\n",
    "}\n",
    "\n",
    "cantidadPuntos <- seq(4, 1000, by = 4)\n",
    "df_calculos <- data.frame(cantidadPuntos)\n",
    "df_calculos$perimetros_simulados <- lapply(cantidadPuntos, obtenerPerimetros)\n",
    "df_calculos$per_prom <- as.numeric(lapply(df_calculos$perimetros_simulados, mean))\n",
    "df_calculos$sd <- as.numeric(lapply(df_calculos$perimetros_simulados, sd))\n",
    "df_calculos <- select(df_calculos, -perimetros_simulados)\n",
    "head(df_calculos)"
   ]
  },
  {
   "cell_type": "code",
   "execution_count": 27,
   "metadata": {},
   "outputs": [
    {
     "data": {
      "text/html": [
       "<table>\n",
       "<caption>A data.frame: 6 × 5</caption>\n",
       "<thead>\n",
       "\t<tr><th scope=col>cantidadPuntos</th><th scope=col>per_prom</th><th scope=col>sd</th><th scope=col>error_top</th><th scope=col>error_bot</th></tr>\n",
       "\t<tr><th scope=col>&lt;dbl&gt;</th><th scope=col>&lt;dbl&gt;</th><th scope=col>&lt;dbl&gt;</th><th scope=col>&lt;dbl&gt;</th><th scope=col>&lt;dbl&gt;</th></tr>\n",
       "</thead>\n",
       "<tbody>\n",
       "\t<tr><td> 4</td><td>4.535171</td><td>0.92681808</td><td>5.461989</td><td>3.608353</td></tr>\n",
       "\t<tr><td> 8</td><td>5.641721</td><td>0.36493563</td><td>6.006656</td><td>5.276785</td></tr>\n",
       "\t<tr><td>12</td><td>5.948989</td><td>0.18614743</td><td>6.135136</td><td>5.762841</td></tr>\n",
       "\t<tr><td>16</td><td>6.084008</td><td>0.10909905</td><td>6.193107</td><td>5.974909</td></tr>\n",
       "\t<tr><td>20</td><td>6.148487</td><td>0.07040633</td><td>6.218894</td><td>6.078081</td></tr>\n",
       "\t<tr><td>24</td><td>6.190487</td><td>0.04914604</td><td>6.239633</td><td>6.141341</td></tr>\n",
       "</tbody>\n",
       "</table>\n"
      ],
      "text/latex": [
       "A data.frame: 6 × 5\n",
       "\\begin{tabular}{r|lllll}\n",
       " cantidadPuntos & per\\_prom & sd & error\\_top & error\\_bot\\\\\n",
       " <dbl> & <dbl> & <dbl> & <dbl> & <dbl>\\\\\n",
       "\\hline\n",
       "\t  4 & 4.535171 & 0.92681808 & 5.461989 & 3.608353\\\\\n",
       "\t  8 & 5.641721 & 0.36493563 & 6.006656 & 5.276785\\\\\n",
       "\t 12 & 5.948989 & 0.18614743 & 6.135136 & 5.762841\\\\\n",
       "\t 16 & 6.084008 & 0.10909905 & 6.193107 & 5.974909\\\\\n",
       "\t 20 & 6.148487 & 0.07040633 & 6.218894 & 6.078081\\\\\n",
       "\t 24 & 6.190487 & 0.04914604 & 6.239633 & 6.141341\\\\\n",
       "\\end{tabular}\n"
      ],
      "text/markdown": [
       "\n",
       "A data.frame: 6 × 5\n",
       "\n",
       "| cantidadPuntos &lt;dbl&gt; | per_prom &lt;dbl&gt; | sd &lt;dbl&gt; | error_top &lt;dbl&gt; | error_bot &lt;dbl&gt; |\n",
       "|---|---|---|---|---|\n",
       "|  4 | 4.535171 | 0.92681808 | 5.461989 | 3.608353 |\n",
       "|  8 | 5.641721 | 0.36493563 | 6.006656 | 5.276785 |\n",
       "| 12 | 5.948989 | 0.18614743 | 6.135136 | 5.762841 |\n",
       "| 16 | 6.084008 | 0.10909905 | 6.193107 | 5.974909 |\n",
       "| 20 | 6.148487 | 0.07040633 | 6.218894 | 6.078081 |\n",
       "| 24 | 6.190487 | 0.04914604 | 6.239633 | 6.141341 |\n",
       "\n"
      ],
      "text/plain": [
       "  cantidadPuntos per_prom sd         error_top error_bot\n",
       "1  4             4.535171 0.92681808 5.461989  3.608353 \n",
       "2  8             5.641721 0.36493563 6.006656  5.276785 \n",
       "3 12             5.948989 0.18614743 6.135136  5.762841 \n",
       "4 16             6.084008 0.10909905 6.193107  5.974909 \n",
       "5 20             6.148487 0.07040633 6.218894  6.078081 \n",
       "6 24             6.190487 0.04914604 6.239633  6.141341 "
      ]
     },
     "metadata": {},
     "output_type": "display_data"
    }
   ],
   "source": [
    "df_calculos$error_top <- df_calculos$per_prom + df_calculos$sd\n",
    "df_calculos$error_bot <- df_calculos$per_prom - df_calculos$sd\n",
    "head(df_calculos)"
   ]
  },
  {
   "cell_type": "code",
   "execution_count": 58,
   "metadata": {},
   "outputs": [
    {
     "data": {
      "image/png": "[encoded data removed]",
      "text/plain": [
       "plot without title"
      ]
     },
     "metadata": {},
     "output_type": "display_data"
    }
   ],
   "source": [
    "ggplot(data=df_calculos, aes(x=cantidadPuntos, y=per_prom)) +\n",
    "ggtitle(\"Comparación Simulación Perímetros\")+\n",
    "geom_line() +\n",
    "geom_hline(yintercept = 2*pi, colour = \"blue\") +\n",
    "geom_line(aes(x = cantidadPuntos, y = per_prom - sd, colour = \"var0\")) +\n",
    "geom_line(aes(x = cantidadPuntos, y = per_prom + sd, colour = \"var1\"))"
   ]
  },
  {
   "cell_type": "code",
   "execution_count": 57,
   "metadata": {},
   "outputs": [
    {
     "data": {
      "text/html": [
       "<table>\n",
       "<caption>A data.frame: 3 × 5</caption>\n",
       "<thead>\n",
       "\t<tr><th scope=col>cantidadPuntos</th><th scope=col>per_prom</th><th scope=col>sd</th><th scope=col>error_top</th><th scope=col>error_bot</th></tr>\n",
       "\t<tr><th scope=col>&lt;dbl&gt;</th><th scope=col>&lt;dbl&gt;</th><th scope=col>&lt;dbl&gt;</th><th scope=col>&lt;dbl&gt;</th><th scope=col>&lt;dbl&gt;</th></tr>\n",
       "</thead>\n",
       "<tbody>\n",
       "\t<tr><td> 992</td><td>6.283122</td><td>6.334767e-06</td><td>6.283129</td><td>6.283116</td></tr>\n",
       "\t<tr><td> 996</td><td>6.283123</td><td>6.321381e-06</td><td>6.283129</td><td>6.283117</td></tr>\n",
       "\t<tr><td>1000</td><td>6.283123</td><td>6.136706e-06</td><td>6.283130</td><td>6.283117</td></tr>\n",
       "</tbody>\n",
       "</table>\n"
      ],
      "text/latex": [
       "A data.frame: 3 × 5\n",
       "\\begin{tabular}{r|lllll}\n",
       " cantidadPuntos & per\\_prom & sd & error\\_top & error\\_bot\\\\\n",
       " <dbl> & <dbl> & <dbl> & <dbl> & <dbl>\\\\\n",
       "\\hline\n",
       "\t  992 & 6.283122 & 6.334767e-06 & 6.283129 & 6.283116\\\\\n",
       "\t  996 & 6.283123 & 6.321381e-06 & 6.283129 & 6.283117\\\\\n",
       "\t 1000 & 6.283123 & 6.136706e-06 & 6.283130 & 6.283117\\\\\n",
       "\\end{tabular}\n"
      ],
      "text/markdown": [
       "\n",
       "A data.frame: 3 × 5\n",
       "\n",
       "| cantidadPuntos &lt;dbl&gt; | per_prom &lt;dbl&gt; | sd &lt;dbl&gt; | error_top &lt;dbl&gt; | error_bot &lt;dbl&gt; |\n",
       "|---|---|---|---|---|\n",
       "|  992 | 6.283122 | 6.334767e-06 | 6.283129 | 6.283116 |\n",
       "|  996 | 6.283123 | 6.321381e-06 | 6.283129 | 6.283117 |\n",
       "| 1000 | 6.283123 | 6.136706e-06 | 6.283130 | 6.283117 |\n",
       "\n"
      ],
      "text/plain": [
       "  cantidadPuntos per_prom sd           error_top error_bot\n",
       "1  992           6.283122 6.334767e-06 6.283129  6.283116 \n",
       "2  996           6.283123 6.321381e-06 6.283129  6.283117 \n",
       "3 1000           6.283123 6.136706e-06 6.283130  6.283117 "
      ]
     },
     "metadata": {},
     "output_type": "display_data"
    }
   ],
   "source": [
    "df_test <- filter(df_calculos, per_prom >= 2*pi-0.000063)\n",
    "head(df_test)"
   ]
  },
  {
   "cell_type": "code",
   "execution_count": null,
   "metadata": {},
   "outputs": [],
   "source": [
    "set.seed(10)\n",
    "\n",
    "# Función que calcula el perímetro\n",
    "distancia <- function(puntos) {\n",
    "    puntos <- sort(puntos)\n",
    "    #print(puntos)\n",
    "    perimetro_total <- 0\n",
    "    for (i in 1:length(puntos)) {\n",
    "        if (i == length(puntos)) {\n",
    "          delta_x <- cos(puntos[i]) - cos(puntos[1])\n",
    "          delta_y <- sin(puntos[i]) - sin(puntos[1])\n",
    "        } else {\n",
    "          delta_x <- cos(puntos[i]) - cos(puntos[i+1])\n",
    "          delta_y <- sin(puntos[i]) - sin(puntos[i+1])\n",
    "        }\n",
    "        perimetro_total <- perimetro_total + sqrt(delta_x ** 2 + delta_y ** 2)\n",
    "    }\n",
    "    #print(i)\n",
    "    #print(perimetro_total)\n",
    "    return(perimetro_total)\n",
    "}\n",
    "\n",
    "cantidadPuntos <- vector(mode = 'numeric', length = 250)\n",
    "perimetros_prom <- vector(mode = 'numeric', length = 250)\n",
    "perimetros_sd <- vector(mode = 'numeric', length = 250)\n",
    "i <- 1\n",
    "for (nPuntos in seq(4, 1000, by = 4)) {\n",
    "    perimetros <- vector(mode = 'numeric', length = 800)\n",
    "    for (nCircunferencia in 1:800) {\n",
    "        puntos <- runif(nPuntos, 0, 2*pi)\n",
    "        #print(puntos)\n",
    "        perimetros[nCircunferencia] <- distancia(puntos)\n",
    "    }\n",
    "    cantidadPuntos[i] <- nPuntos\n",
    "    #print(perimetros)\n",
    "    #print(\"hola que tal\")\n",
    "    perimetros_prom[i] <- mean(perimetros)\n",
    "    perimetros_sd <- sd(perimetros)\n",
    "    i <- i+1\n",
    "}\n",
    "\n",
    "datos <- data.frame(nPuntos = cantidadPuntos, perimetros_promedio = perimetros_prom, sd_perimetros = perimetros_sd)\n",
    "\n",
    "head(datos)\n",
    "#datos"
   ]
  },
  {
   "cell_type": "code",
   "execution_count": 94,
   "metadata": {},
   "outputs": [
    {
     "data": {
      "image/png": "[encoded data removed]",
      "text/plain": [
       "plot without title"
      ]
     },
     "metadata": {},
     "output_type": "display_data"
    }
   ],
   "source": [
    "ggplot(data=datos, aes(x=nPuntos, y=perimetros_promedio)) +\n",
    "ggtitle(\"Comparación Simulación Perímetros\")+\n",
    "geom_line() +\n",
    "geom_hline(yintercept = 2*pi, colour = \"blue\") #+\n",
    "#geom_line(aes(x = cantidadPuntos, y = perimetros_promedio - sd_perimetros, colour = \"var0\")) +\n",
    "#geom_line(aes(x = cantidadPuntos, y = perimetros_promedio + sd_perimetros, colour = \"var1\"))"
   ]
  },
  {
   "cell_type": "markdown",
   "metadata": {},
   "source": [
    "## 4. Bingo Ball (30p)\n",
    "\n",
    "A usted se le ha presentado la oportunidad de ganar un increíble premio que cuesta 10 veces el valor de 1 intento en el juego de de \"Bingo Ball\", el juego consiste en lo siguiente (instrucciones abajo del diagrama)nPuntos"
   ]
  },
  {
   "cell_type": "markdown",
   "metadata": {},
   "source": [
    "<img src=\"img/game.png\">"
   ]
  },
  {
   "cell_type": "markdown",
   "metadata": {},
   "source": [
    "En el diagrama, los círculos representan \"etapas\" por las que la bolita puede pasar. El funcionamiento del juego es el siguiente:\n",
    "\n",
    "* Usted lanzará 7 bolitas secuencialmente.\n",
    "* Cada bolita llega inicialmente a A, B, C o D (no entre medio o a algún otro lugar). Esto se asume equiprobable a menos que se diga lo contrario.\n",
    "* En cada etapa la bolita tiene la posibilidad de caer hacia la izquierda o a la derecha. Ciertas etapas (relleno amarillo) hacen que la bolita caiga en una única dirección ya que la bolita caería del tablero si no fuera así.\n",
    "* La bolita si o sí pasará por una y solo una etapa de cada fila $F_{i}\\;\\; i \\in [1,4]$ (linea punteada en el diagrama)\n",
    "* Usted ganará el juego si cada zona final (1,2,3,4) es alcanzada al menos 1 vez por cada bolita.\n",
    "\n",
    ">En palabras simples, la bolita va bajando mientras cambia (o no) de dirección al chocar con los puntos negros.\n",
    "\n",
    "\n",
    "A continuación, se presenta un ejemplo del recorrido de una bola:\n",
    "\n",
    "<img src=\"img/game2.png\">"
   ]
  },
  {
   "cell_type": "markdown",
   "metadata": {},
   "source": [
    "Como puede ver, la bola inicialmente llegó a \"A\", luego su recorrido fue: izquierda, derecha (no hay otra opción), derecha, derecha y finalmente llegó a la zona 2.\n",
    "\n",
    "El tablero que se presenta en ambos diagramas es el mismo tablero que deberá simular (es fijo). \n",
    "Considere que $P(irse\\;a\\;la\\;izquierda) = 0.5$ a menos que se indique lo contrario.\n",
    "\n",
    "En base a esto responda:\n",
    "\n",
    ">a) ¿La cantidad de bolitas suministradas es suficiente para poder obtener el premio a un precio menor que el original?\n"
   ]
  },
  {
   "cell_type": "code",
   "execution_count": null,
   "metadata": {},
   "outputs": [],
   "source": []
  },
  {
   "cell_type": "markdown",
   "metadata": {},
   "source": [
    "> b) Para $4 \\leq n \\leq 100$ calcule la probabilidad de ganar el juego al menos 1 vez en función de $n$ bolas. Presente el resultado en un gráfico de Probabilidad v/s $n$.\n",
    "\n",
    "No basta 1 simulación para cada $n$"
   ]
  },
  {
   "cell_type": "code",
   "execution_count": null,
   "metadata": {},
   "outputs": [],
   "source": []
  },
  {
   "cell_type": "markdown",
   "metadata": {},
   "source": [
    ">c) Si a usted le queda 1 bola restante y solamente le falta cubrir la zona 3 determine la zona inicial a la que deberá apuntar el tiro para maximizar la probabilidad de ganar. "
   ]
  },
  {
   "cell_type": "code",
   "execution_count": null,
   "metadata": {},
   "outputs": [],
   "source": []
  },
  {
   "cell_type": "markdown",
   "metadata": {},
   "source": [
    ">d) Determine la probabilidad de alcanzar cada zona final si la bola llega inicialmente a \"A\". Repita el procedimiento pero esta vez utilizando \"C\" como punto de partida."
   ]
  },
  {
   "cell_type": "code",
   "execution_count": null,
   "metadata": {},
   "outputs": [],
   "source": []
  },
  {
   "cell_type": "markdown",
   "metadata": {},
   "source": [
    ">e) Si ahora la bola tiene un 70% de probabilidad de mantener la dirección actual y un 30% de cambiar de dirección ¿Mantiene la respuesta dada en a)?\n",
    "\n",
    "En la zona inicial (A,B,C,D) tiene la misma probabilidad de irse tanto a la izquierda como a la derecha, pero en las siguientes zonas si la bolita fue a la izquierda tiene un 70% de irse a la izquierda y un 30% de irse a la derecha, si después se va a la derecha tiene un 70% de probabilidad de irse a la derecha y así sucesivamente."
   ]
  },
  {
   "cell_type": "code",
   "execution_count": null,
   "metadata": {},
   "outputs": [],
   "source": []
  },
  {
   "cell_type": "markdown",
   "metadata": {},
   "source": [
    "## Reglas del Juego y Comentarios \n",
    "\n",
    "+ Errores ortográficos, de redacción y oraciones ambiguas descontarán parte de su puntaje.\n",
    "+ Las dudas deberán ser publicadas en moodle para que sus compañeros puedan beneficiarse de la respuesta, no se aceptarán dudas vía correo ni redes sociales, esto es para fomentar que todos tengan la misma información.\n",
    "+ Cada día de atraso descuenta 25 puntos de la nota final con un máximo de dos días de retraso (después es 0).\n",
    "+ La versión de R que se usará para revisar es 3.6.1\n",
    "+ La versión de Python que se usará para revisar es 3.6.8\n",
    "+ Use cualquier librería que estime conveniente, si requiere de instalación explicitarlo en el README (y bien explicitado).\n",
    "+ Código comentado para facilitar entendimiento.\n",
    "+ Sea formal y claro con su respuesta, **explique su procedimiento y luego responda.** \n",
    "+ Defina bien las secciones de su notebook, el orden siempre es bueno :) [Tips para usar Markdown](https://github.com/adam-p/markdown-here/wiki/Markdown-Cheatsheet)"
   ]
  }
 ],
 "metadata": {
  "kernelspec": {
   "display_name": "R",
   "language": "R",
   "name": "ir"
  },
  "language_info": {
   "codemirror_mode": "r",
   "file_extension": ".r",
   "mimetype": "text/x-r-source",
   "name": "R",
   "pygments_lexer": "r",
   "version": "3.6.1"
  }
 },
 "nbformat": 4,
 "nbformat_minor": 4
}
