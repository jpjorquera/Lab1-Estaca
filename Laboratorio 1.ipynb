{
 "cells": [
  {
   "cell_type": "markdown",
   "metadata": {},
   "source": [
    "<table style=\"width:100%\">\n",
    "  <tr>\n",
    "    <th align=\"right\"><img src=\"img/dilogo.png\" style=\"float:left;height:90px\"></th>\n",
    "    <th align=\"center\">\n",
    "    <h1 align=\"center\">Laboratorio 1</h1>\n",
    "    <h2 align=\"center\">Profesor: Ricardo Ñanculef</h2>\n",
    "    <h3 align=\"center\">Ayudante: Gabriel Ortega</h3>\n",
    "    <h3 align=\"center\">Juan Pablo Jorquera 201573533-6</h3>\n",
    "    <h3 align=\"center\">David Medel 201573548-4</h3>\n",
    "    <h3 align=\"center\">Agosto de 2019</h3>\n",
    "    </th> \n",
    "    <th align=\"left\"><img src=\"img/usmlogo.png\" style=\"float:right;height:85px\"></th>\n",
    "  </tr>"
   ]
  },
  {
   "cell_type": "markdown",
   "metadata": {},
   "source": [
    "> <font size = \"+2\"><b>Antes de corregir se correrá su notebook utilizando la función Cell $\\rightarrow$ Run All.</b></font>\n",
    "\n",
    "\n",
    "## Instrucciones\n",
    "\n",
    "La modalidad de trabajo será mediante el uso de jupyter notebook. El notebook debe ser desarrollado en parejas o individual y ser entregado el 16 de septiembre de 2019.\n",
    "\n",
    "La **modalidad de entrega será un archivo Apellido1_Apellido2_Lab1.zip** que contenga un notebook que incluya todas las preguntas con sus respectivas respuestas, un README que indique la forma correcta de ejecutar su notebook y cualquier archivo/carpeta extra que considere necesario para el correcto funcionamiento de su tarea (no es necesario adjuntar los .csv que se utilicen para trabajar). El laboratorio puede ser trabajado tanto en lenguaje R como en python 3 (para los que usen python 2.X, absténganse a las consecuencias). Lea bien el enunciado.\n",
    "\n",
    "\n",
    "**Cualquier copia detectada implicará nota 0 en el laboratorio correspondiente y se notificará la situación al profesor.**\n",
    "\n",
    "\n"
   ]
  },
  {
   "cell_type": "markdown",
   "metadata": {},
   "source": [
    "## 1. Limpiando Datos (15p)\n",
    "\n",
    "Como se mencionó en la ayudantía de laboratorio, la limpieza de datos es algo importante que se debe realizar antes de trabajar con un conjunto de datos, en esta sección trabajará con el dataset \"limpieza.csv\". Se espera que usted sea capaz de evidenciar las fallas dentro de este dataset y después de realizar la limpieza presente el dataset final resultante para comparar. \n",
    "\n",
    ">**Importante:** Si bien la limpieza es subjetiva, no optará a todo el puntaje de esta sección si presenta una limpieza incompleta (se observa que su dataset final se puede limpiar más a simple vista)."
   ]
  },
  {
   "cell_type": "code",
   "execution_count": null,
   "metadata": {},
   "outputs": [],
   "source": [
    "library(tidyverse)"
   ]
  },
  {
   "cell_type": "code",
   "execution_count": null,
   "metadata": {},
   "outputs": [],
   "source": [
    "limpieza <- read.csv(\"limpieza.csv\")\n",
    "\n",
    "# Limpieza de tabla\n",
    "limpieza <- limpieza %>%\n",
    "# Normalizar columna genero con variantes a 'masculino' y 'femenino'\n",
    "    mutate(genero = str_replace(genero, 'hombre', 'masculino')) %>%\n",
    "    mutate(genero = str_replace(genero, 'Hombre', 'masculino')) %>%\n",
    "    mutate(genero = str_replace(genero, 'Masculino', 'masculino')) %>%\n",
    "    mutate(genero = str_replace(genero, 'mujer', 'femenino')) %>%\n",
    "    mutate(genero = str_replace(genero, 'Mujer', 'femenino')) %>%\n",
    "    mutate(genero = str_replace(genero, 'Femenino', 'femenino')) %>%\n",
    "# Normalizar columna mascota a 'perro' y 'gato'\n",
    "    mutate(mascota = str_replace(mascota, 'Perro', 'perro')) %>%\n",
    "    mutate(mascota = str_replace(mascota, 'Gato', 'gato')) %>%\n",
    "# Filtro de personas anómalas con edad 0\n",
    "    filter(edad > 0) %>%\n",
    "# Cambiar tipo de columna estado civil\n",
    "    mutate(e_civil = as.character(e_civil)) %>%\n",
    "# Cambiar tipo de columna edad\n",
    "    mutate(edad = as.integer(edad)) %>%\n",
    "# Separar columna trabajo en tipo de trabajo y sueldo\n",
    "    separate(trabajo, c(\"tipo_trabajo\", \"sueldo\"), \"/\") %>%\n",
    "# Limpiar y convertir nueva columna sueldo a numerico\n",
    "    mutate(sueldo = as.integer(substring(sueldo, 2)))\n",
    "\n",
    "limpieza"
   ]
  },
  {
   "cell_type": "markdown",
   "metadata": {},
   "source": [
    "## 2. Apps en la Playstore (35p)\n",
    "\n",
    "Google Play Store actualmente posee una enorme cantidad de aplicaciones que pueden ser descargadas por los usuarios. En esta sección utilizará una pequeña parte de dicho universo y trabajará principalmente en análisis exploratorio de los datos para responder las preguntas que verá a continuación. \n",
    "\n",
    "El archivo a utilizar es \"googleplaystore.csv\" y para información extra puede referirse a [este enlace](https://www.kaggle.com/lava18/google-play-store-apps)\n",
    "\n",
    ">PD: Hay 1 fila mala en el dataset, no es difícil de identificar."
   ]
  },
  {
   "cell_type": "markdown",
   "metadata": {},
   "source": [
    "Primero realizaremos limpieza a los datos para su correcto uso"
   ]
  },
  {
   "cell_type": "code",
   "execution_count": null,
   "metadata": {},
   "outputs": [],
   "source": [
    "datos <- read.csv(\"googleplaystore.csv\")\n",
    "#Eliminar fila con categoria = 1.9\n",
    "datos<- datos[datos$Category != \"1.9\", ]\n",
    "#Eliminar filas NaN\n",
    "datos<- datos[datos$Type != 'NaN', ]\n",
    "datos<- datos[datos$Rating != 'NaN', ]\n",
    "#Rating a numeros\n",
    "datos$Rating <- as.numeric(datos$Rating)\n"
   ]
  },
  {
   "cell_type": "markdown",
   "metadata": {},
   "source": [
    ">a) ¿Es posible observar alguna concentración de ratings de las aplicaciones en torno a un intervalo? Si su respuesta es sí, ¿Qué rango/s tiene/n mayor concentración?"
   ]
  },
  {
   "cell_type": "code",
   "execution_count": null,
   "metadata": {},
   "outputs": [],
   "source": [
    "intervalos <- seq(from = 1, to = 5, by = 1) \n",
    "frecuencias <- cut(datos$Rating, \n",
    "                 breaks = intervalos,   \n",
    "                 dig.lab = 2,   \n",
    "                 right = FALSE) \n",
    "tabla.frec  <- table(frecuencias)   # Crea la tabla de frecuencias\n",
    "cbind(tabla.frec)\n",
    "\n"
   ]
  },
  {
   "cell_type": "markdown",
   "metadata": {},
   "source": [
    "**Respuesta:** Tal como lo señala la tabla recién expuesta el intervalo con mayor concentración corresponde a \\[4,5), con un valor de frecuencia de 7094."
   ]
  },
  {
   "cell_type": "markdown",
   "metadata": {},
   "source": [
    ">b) ¿Qué grupo tiene ratings más dispersos, las aplicaciones que pertenecen a la categoría de \"EDUCATION\" o las que pertenecen a la categoría de \"MEDICAL\"? Utilice al menos 1 recurso visual y 1 medida de tendencia para responder. "
   ]
  },
  {
   "cell_type": "code",
   "execution_count": null,
   "metadata": {},
   "outputs": [],
   "source": [
    "#Dividimos en dos subset \n",
    "education= subset(datos, datos$Category== \"EDUCATION\")\n",
    "medical= subset(datos, datos$Category== \"MEDICAL\")\n",
    "\n",
    "desv_education<- sd(education$Rating)\n",
    "desv_medical<- sd(medical$Rating)\n",
    "\n",
    "c(Desviación_education = desv_education, Desviación_medical= desv_medical)\n",
    "\n",
    "plot(education$Rating) #poner nmbre a los graficos\n",
    "plot(medical$Rating)\n",
    "#falta colocar una linea de tendencia para evidenciar la dispersión :o\n"
   ]
  },
  {
   "cell_type": "markdown",
   "metadata": {},
   "source": [
    "**Respuesta:** El grupo con datos mas dispersos corresponde a *Medical*, esto pues su desviación estanadar tal como se presenta a un comienzo corresponde a un valor de 0,66. Este valor se refleja en el gráfico de dispersión presentado. Dicho grafico evidencia y comprueba como los datos se distribuyen más lejos a la linea de tendencia que en el caso del grupo *Education*. "
   ]
  },
  {
   "cell_type": "markdown",
   "metadata": {},
   "source": [
    ">c) Construya un boxplot sobre la cantidad de instalaciones de las aplicaciones cuyo rating sea menor a 4 y otro para las aplicacions cuyo rating sea mayor o igual a 4, compare lo que observa. \n",
    "\n",
    "**Hint:** Podría aplicar algún cambio de escala a los valores. ¿Cuál? No log sé. "
   ]
  },
  {
   "cell_type": "code",
   "execution_count": null,
   "metadata": {},
   "outputs": [],
   "source": [
    "# Instalaciones.\n",
    "datos$Installs <- as.numeric(datos$Installs)\n",
    "#Los valores no concuerdan , no es esta conversión\n",
    "\n",
    "library(ggplot2)\n",
    "#boxplot\n",
    "ggplot(datos, aes(x=Rating, y=Installs, fill=Rating>4))+ ggtitle(\"Cantidad de instalaciones dependiendo del rating\") + \n",
    "    geom_boxplot() + \n",
    "    xlab(\"Rating\") + ylab(\"Instalaciones\") + scale_y_continuous(trans = log2_trans()) + \n",
    "    scale_fill_manual(values=c(\"darkorange\",\"dodgerblue2\"))\n"
   ]
  },
  {
   "cell_type": "markdown",
   "metadata": {},
   "source": [
    ">d) Para cada categoría obtenga el rango, la deviación estándar, varianza del rating y la cantidad de aplicaciones pertenecientes a dicha categoría y responda:\n",
    "\n",
    "* De las aplicaciones de mayor rango (fíjelo usted) ¿Cuáles presentan mayor y menor variabilidad?\n",
    "* ¿Cuál es la principal diferencia entre las aplicaciones cuyo rango es inferior a 2.5 y las cuyo rango es mayor a dicho valor? (Si usted no nota una diferencia significativa es una respuesta válida, siempre y cuando esté fundamentada)\n",
    "* ¿Es posible concluir que las categorías con una mayor cantidad de aplicaciones presentan una mayor variabilidad de rating que aquellas con menos aplicaciones? "
   ]
  },
  {
   "cell_type": "code",
   "execution_count": null,
   "metadata": {},
   "outputs": [],
   "source": [
    "#install.packages(\"tables\", dependencies=TRUE)"
   ]
  },
  {
   "cell_type": "code",
   "execution_count": null,
   "metadata": {},
   "outputs": [],
   "source": [
    "#Funcion para calcular lo solicitado\n",
    "mistads <- function(x){\n",
    "                n <- length(x) #largo\n",
    "                v <- var(x) #varianza\n",
    "                s <- sd(x) #Desviacion estandar\n",
    "                cv <- sd(x)/mean(x)\n",
    "                return(c( desviacion= s , varianza=v,  cantidad_app =n))\n",
    "}\n",
    "\n",
    "#Rating a numeros\n",
    "# distinct(datos, Category) # No aparece category 1.9 :S\n",
    "\n",
    "datos$Rating <- as.numeric(datos$Rating)\n",
    "library(tables) \n",
    "tt <- tabular( ( Categoria = Category ) ~ \n",
    "             ( Rating = Rating ) *\n",
    "             ( (Media = mean) + \n",
    "               (Desviación = sd) + \n",
    "               (Mínimo = min) + \n",
    "               (Máximo = max) + \n",
    "               (Mediana = median) ) +\n",
    "             ( Cantidad_App = 1 ), \n",
    "             data = datos )\n",
    "tt"
   ]
  },
  {
   "cell_type": "markdown",
   "metadata": {},
   "source": [
    ">e) Responda las siguientes preguntas: \n",
    "\n",
    "* Si mi aplicación pesa mucho ¿es probable que sea mal calificada?\n",
    "* Si mi aplicación tiene una mayor cantidad de instalaciones ¿su rating será más alto?\n",
    "* Si mi app está enfocada en alguna categoría en especial ¿tendrá una mayor cantidad de instalaciones?\n",
    "* ¿Existe alguna categoría donde se aprecien más aplicaciones pagas que gratuitas?\n",
    "\n",
    "Fundamente su respuesta utilizando herramientas visuales o estadísticas. "
   ]
  },
  {
   "cell_type": "markdown",
   "metadata": {},
   "source": [
    "**SOLUCIÓN** :  Para la primera pregunta primero debemos establecer que es \"pesa mucho\" y \"mal calificada\", por lo que se define lo siguiente:\n",
    "* Pesa mucho(PM) : Size mayor a la media\n",
    "* Mal calificada(MC) : Rating menor a la media\n",
    "* Mayor cantidad de instalaciones (MI) : Installs mayor a la media\n"
   ]
  },
  {
   "cell_type": "code",
   "execution_count": null,
   "metadata": {},
   "outputs": [],
   "source": [
    "m_r = mean(datos$Rating)\n",
    "datos$Size <- as.numeric(datos$Size)\n",
    "m_s = mean(datos$Size)\n",
    "\n",
    "#datos$Installs <- as.numeric(datos$Installs)\n",
    "m_i = mean(datos$Installs)\n",
    "\n",
    "#ARREGLAR DATOS PARA TRABAJARLOS \n",
    "\n",
    "\n",
    "c(Media_Rating = media_Rating, Media_Size= m_s, Media_Installs = m_i)"
   ]
  },
  {
   "cell_type": "markdown",
   "metadata": {},
   "source": [
    "* P(MC|MC) = \n",
    "* No, calcular probabilidad\n",
    "* Ni idea como hacerla\n",
    "* No existe categoria donde se aprecie más aplicaciones \"Paid\" que \"Free\", lo cual se puede observar en la siguiente tabla,la cual muestra por cada categoria su tipo."
   ]
  },
  {
   "cell_type": "code",
   "execution_count": null,
   "metadata": {},
   "outputs": [],
   "source": [
    "library(tables) \n",
    "#datos<- datos[datos$Category != \"1.9\", ]\n",
    "tt <- tabular( ( Categoria = Category ) ~ \n",
    "             ( Type = Type ), \n",
    "             data = datos )\n",
    "tt"
   ]
  },
  {
   "cell_type": "markdown",
   "metadata": {},
   "source": [
    ">f) Construya un histograma de los tamaños de las aplicaciones ¿Se aprecia algún tipo de sesgo en la distribución?."
   ]
  },
  {
   "cell_type": "code",
   "execution_count": null,
   "metadata": {},
   "outputs": [],
   "source": [
    "datos$Size =  as.numeric(datos$Size)\n",
    "hist(datos$Size)\n"
   ]
  },
  {
   "cell_type": "markdown",
   "metadata": {},
   "source": [
    ">g) Haga un histograma para los ratings de cada categoría. ¿Observa algún patrón respecto al sesgo de los histogramas obtenidos?"
   ]
  },
  {
   "cell_type": "code",
   "execution_count": null,
   "metadata": {},
   "outputs": [],
   "source": [
    "distinct(datos, Category)\n",
    "\n",
    "hist(ART_AND_DESIGN$Rating)"
   ]
  },
  {
   "cell_type": "markdown",
   "metadata": {},
   "source": [
    ">h) Construya un heatmap (debe investigarlo por su cuenta) de las aplicaciones pagas donde la dimensión de color sea el rating y los ejes sean el precio y el tamaño de la aplicación. Concluya respecto a lo observado."
   ]
  },
  {
   "cell_type": "code",
   "execution_count": null,
   "metadata": {},
   "outputs": [],
   "source": [
    "aplicaciones= subset(datos, Type == \"Paid\")\n",
    "aplicaciones$Category <- NULL\n",
    "aplicaciones$Reviews <- NULL\n",
    "aplicaciones$Installs <- NULL\n",
    "aplicaciones$Type <- NULL\n",
    "aplicaciones$Price <- NULL\n",
    "aplicaciones$Content.Rating <- NULL\n",
    "aplicaciones$Genres <- NULL\n",
    "aplicaciones$Last.Updated <- NULL\n",
    "aplicaciones$Current.Ver <- NULL\n",
    "aplicaciones$Android.Ver <- NULL\n",
    "\n",
    "library(ggplot2) \n",
    "library(tidyr)\n",
    "#new <- aplicaciones %>% gather (key=App, value= Rating, \"Photo Editor & Candy Camera & Grid & ScrapBook\":\"iHoroscope - 2018 Daily Horoscope & Astrology\")\n",
    "ggplot(aplicaciones, aes(x=aplicaciones$Size, y=aplicaciones$App, fill=aplicaciones$Rating)) + geom_tile()\n",
    "\n",
    "#as.matrix(aplicaciones)\n",
    "#str(aplicaciones)\n",
    "#heatmap(as.matrix(aplicaciones), scale = \"none\")"
   ]
  },
  {
   "cell_type": "markdown",
   "metadata": {},
   "source": [
    "## 3. Aproximando el perímetro de una circunferencia (20p)\n",
    "\n",
    "De sus cursos de matemática seguro habrá escuchado acerca de las coordenas polares, un cambio de coordenadas donde representamos los puntos en función de un radio y un ángulo. \n",
    "\n",
    "$$\n",
    "x = r\\cdot cos(\\theta)\n",
    "$$\n",
    "\n",
    "$$\n",
    "y = r\\cdot sin(\\theta)\n",
    "$$\n",
    "\n",
    "Utilizando estas coordenadas, usted posicionará $n$ puntos aleatorios dentro de la circunferencia lo que generará un polígono irregular, para cada $n \\in [4,\\infty]$ elegido debe simular una cantidad suficiente de polígonos (800-1000) que utilizará para aproximar el perímetro de la circunferencia, luego calculará el perímetro promedio y la desviación estándar para cada $n$ utilizado.\n",
    "\n",
    "\n",
    "Una vez haya simulado con varios $n$ distintos grafique el perímetro promedio junto a su margen de error $\\bar{x} \\pm \\sigma$ y el perímetro real de la circunferencia. Utilice la cantidad de lados del polígono como el eje X de su gráfico.\n",
    "\n",
    "> El gráfico involucra 4 lineas: promedio del perímetro, perímetro real, límite superior del error y límite inferior del error.\n",
    "\n",
    "Recuerde explicar cómo utilizará el método de los polígonos para aproximar el perímetro de la circunferencia y concluya a partir de lo que observa en el gráfico.\n",
    "\n",
    "Algunos ejemplos de $n = 5$"
   ]
  },
  {
   "cell_type": "markdown",
   "metadata": {},
   "source": [
    "<table style=\"width:100%\">\n",
    "  <tr>\n",
    "    <th align=\"right\"><img src=\"img/ej1.png\" style=\"float:left;height:120px\"></th>\n",
    "    <th align=\"center\"><img src=\"img/ej2.png\" style=\"float:left;height:120px\"></th> \n",
    "    <th align=\"left\"><img src=\"img/ej3.png\" style=\"float:right;height:120px\"></th>\n",
    "  </tr>\n",
    "    \n",
    "Para facilitar la construcción del polígono se sugiere generar los $n$ puntos y luego conectarlos en sentido antihorario/horario."
   ]
  },
  {
   "cell_type": "code",
   "execution_count": null,
   "metadata": {},
   "outputs": [],
   "source": [
    "# Respuesta programada en R\n",
    "library(ggplot2)\n",
    "set.seed(3)\n",
    "start.time <- Sys.time()\n",
    "\n",
    "# Función para verificar que no hayan puntos repetidos\n",
    "tieneDuplicados <- function(puntos) {\n",
    "  if (anyDuplicated(puntos)) {\n",
    "      return(1)\n",
    "  } else {\n",
    "      return(0)\n",
    "  }\n",
    "}\n",
    "\n",
    "# Función para generar lista con puntos entre 0 y 2pi y que no se repitan\n",
    "generarPuntos <- function(nPuntos) {\n",
    "    repeat {\n",
    "        puntos <- runif(nPuntos, 0, 2*pi)\n",
    "        if (!tieneDuplicados(puntos)) {\n",
    "            break\n",
    "        }\n",
    "    }\n",
    "    return(puntos)\n",
    "}\n",
    "\n",
    "# Función que calcula el perímetro\n",
    "distancia <- function(puntos) {\n",
    "    puntos <- sort(puntos)\n",
    "    perimetro_total <- 0\n",
    "    # Calcular distancias entre puntos\n",
    "    for (i in 1:length(puntos)) {\n",
    "        if (i == length(puntos)) {\n",
    "          delta_x <- cos(puntos[i]) - cos(puntos[1])\n",
    "          delta_y <- sin(puntos[i]) - sin(puntos[1])\n",
    "        } else {\n",
    "          delta_x <- cos(puntos[i]) - cos(puntos[i+1])\n",
    "          delta_y <- sin(puntos[i]) - sin(puntos[i+1])\n",
    "        }\n",
    "        perimetro_total <- perimetro_total + sqrt(delta_x ** 2 + delta_y ** 2)\n",
    "    }\n",
    "    return(perimetro_total)\n",
    "}\n",
    "\n",
    "# Condiciones iniciales con vectores para guardar resultados\n",
    "cantidadPuntos <- vector(mode = 'numeric', length = 250)\n",
    "perimetros_prom <- vector(mode = 'numeric', length = 250)\n",
    "perimetros_sd <- vector(mode = 'numeric', length = 250)\n",
    "i <- 1\n",
    "# Iterar sobre la cantidad de puntos a generar entre [4, 1000]\n",
    "for (nPuntos in seq(4, 1000, by = 4)) {\n",
    "    perimetros <- vector(mode = 'numeric', length = 800)\n",
    "    # Iterar sobre la cantidad de circunferencias a generar para cada cantidad de puntos\n",
    "    for (nCircunferencia in 1:800) {\n",
    "        puntos <- generarPuntos(nPuntos)\n",
    "        perimetros[nCircunferencia] <- distancia(puntos)\n",
    "    }\n",
    "    # Guardar resultados\n",
    "    cantidadPuntos[i] <- nPuntos\n",
    "    perimetros_prom[i] <- mean(perimetros)\n",
    "    perimetros_sd[i] <- sd(perimetros)\n",
    "    i <- i+1\n",
    "}\n",
    "\n",
    "# Cálculo de tiempo\n",
    "end.time <- Sys.time()\n",
    "time.taken <- end.time - start.time\n",
    "time.taken\n",
    "\n",
    "datos <- data.frame(nPuntos = cantidadPuntos, perimetros_promedio = perimetros_prom, sd_perimetros = perimetros_sd)\n",
    "#head(datos)\n",
    "\n",
    "# Generación de gráfico\n",
    "ggplot(data=datos, aes(x=nPuntos, y=perimetros_promedio)) +\n",
    "ggtitle(\"Simulación de perímetro de circunferencias\") +\n",
    "xlab(\"Cantidad de puntos generados\") +\n",
    "ylab(\"Perímetro\") +\n",
    "geom_smooth(method = \"loess\", aes(color=\"Perímetro promedio\"), se = FALSE) +\n",
    "geom_hline(aes(yintercept = 2*pi, color = \"Perímetro real\")) +\n",
    "scale_x_continuous(trans='log2') +\n",
    "labs(color='Datos') +\n",
    "geom_smooth(method = \"loess\", aes(x=nPuntos, y=(perimetros_promedio+sd_perimetros), color=\"Límite superior error\"), se = FALSE) +\n",
    "geom_smooth(method = \"loess\", aes(x=nPuntos, y=(perimetros_promedio-sd_perimetros), color=\"Límite inferior error\"), se = FALSE)"
   ]
  },
  {
   "cell_type": "markdown",
   "metadata": {},
   "source": [
    "### Explicación resultados\n",
    "El ejercicio se realizó simulando las circunferencias generando puntos al azar y calculando el perímetro del polígono generado, utilizando desde 4 a 1000 puntos y, a su vez, para cada cantidad de puntos, se hicieron 800 simulaciones, obteniendo así el perímetro promedio de cada polígono generado. También se trabajó con la restricción de que los puntos generados al azar no se pudieran repetir.\n",
    "\n",
    "Como se puede ver en el gráfico, al principio los perímetros obtenidos se alejaban bastante del perímetro real, iniciando con un error porcentual aproximado de un 28.4% y con un alto nivel de variación en cada simulación, lo que se refleja en el amplio rango de los errores (límite superior e inferior). Luego, al aumentar el número de puntos, las simulaciones se normalizan rápidamente, acercándose antes de los 100 puntos al perímetro real al prácticamente interseptar las cuatro líneas, lo que implica que el margen de error prácticamente se elimina. La simulación termina con un error aproximado de un 0.0%, lo que demuestra la validez de la metodología para estimar el perímetro de la circunferencia y que ello depende directamente de la cantidad de puntos utilizados en la simulación."
   ]
  },
  {
   "cell_type": "markdown",
   "metadata": {},
   "source": [
    "## 4. Bingo Ball (30p)\n",
    "\n",
    "A usted se le ha presentado la oportunidad de ganar un increíble premio que cuesta 10 veces el valor de 1 intento en el juego de de \"Bingo Ball\", el juego consiste en lo siguiente (instrucciones abajo del diagrama)nPuntos"
   ]
  },
  {
   "cell_type": "markdown",
   "metadata": {},
   "source": [
    "<img src=\"img/game.png\">"
   ]
  },
  {
   "cell_type": "markdown",
   "metadata": {},
   "source": [
    "En el diagrama, los círculos representan \"etapas\" por las que la bolita puede pasar. El funcionamiento del juego es el siguiente:\n",
    "\n",
    "* Usted lanzará 7 bolitas secuencialmente.\n",
    "* Cada bolita llega inicialmente a A, B, C o D (no entre medio o a algún otro lugar). Esto se asume equiprobable a menos que se diga lo contrario.\n",
    "* En cada etapa la bolita tiene la posibilidad de caer hacia la izquierda o a la derecha. Ciertas etapas (relleno amarillo) hacen que la bolita caiga en una única dirección ya que la bolita caería del tablero si no fuera así.\n",
    "* La bolita si o sí pasará por una y solo una etapa de cada fila $F_{i}\\;\\; i \\in [1,4]$ (linea punteada en el diagrama)\n",
    "* Usted ganará el juego si cada zona final (1,2,3,4) es alcanzada al menos 1 vez por cada bolita.\n",
    "\n",
    ">En palabras simples, la bolita va bajando mientras cambia (o no) de dirección al chocar con los puntos negros.\n",
    "\n",
    "\n",
    "A continuación, se presenta un ejemplo del recorrido de una bola:\n",
    "\n",
    "<img src=\"img/game2.png\">"
   ]
  },
  {
   "cell_type": "markdown",
   "metadata": {},
   "source": [
    "Como puede ver, la bola inicialmente llegó a \"A\", luego su recorrido fue: izquierda, derecha (no hay otra opción), derecha, derecha y finalmente llegó a la zona 2.\n",
    "\n",
    "El tablero que se presenta en ambos diagramas es el mismo tablero que deberá simular (es fijo). \n",
    "Considere que $P(irse\\;a\\;la\\;izquierda) = 0.5$ a menos que se indique lo contrario.\n",
    "\n",
    "En base a esto responda:\n",
    "\n",
    ">a) ¿La cantidad de bolitas suministradas es suficiente para poder obtener el premio a un precio menor que el original?\n"
   ]
  },
  {
   "cell_type": "markdown",
   "metadata": {},
   "source": [
    "(4*3*2*1)/(4^4)*100"
   ]
  },
  {
   "cell_type": "code",
   "execution_count": null,
   "metadata": {},
   "outputs": [],
   "source": [
    "fdp <- function(probabilidad, intentos) {\n",
    "    return((1-probabilidad)**(intentos-1)*probabilidad)\n",
    "}\n",
    "\n",
    "probabilidad_total <- function(nLanzamientos, zonas_exitosas = 4, zonas_totales = 4, calculo_prob = 1) {\n",
    "    # Caso base\n",
    "    if (zonas_exitosas == 0) {\n",
    "        return(calculo_prob)\n",
    "    }\n",
    "    # Las que faltan por completar\n",
    "    otras_zonas <- zonas_exitosas - 1\n",
    "    nIntentos <- nLanzamientos - otras_zonas\n",
    "    suma_probabilidades <- 0\n",
    "    \n",
    "    for (i in seq(1:nIntentos)) {\n",
    "        p <- zonas_exitosas/zonas_totales\n",
    "        fdp <- fdp(p, i)\n",
    "        prob_actual <- probabilidad_total(nLanzamientos-i, zonas_exitosas-1, calculo_prob = calculo_prob * fdp)\n",
    "        suma_probabilidades <- suma_probabilidades + prob_actual\n",
    "    }\n",
    "    return(suma_probabilidades)\n",
    "}\n",
    "\n",
    "a <- probabilidad_total(7)\n",
    "a"
   ]
  },
  {
   "cell_type": "code",
   "execution_count": null,
   "metadata": {},
   "outputs": [],
   "source": [
    "seq(1:3)"
   ]
  },
  {
   "cell_type": "markdown",
   "metadata": {},
   "source": [
    "> b) Para $4 \\leq n \\leq 100$ calcule la probabilidad de ganar el juego al menos 1 vez en función de $n$ bolas. Presente el resultado en un gráfico de Probabilidad v/s $n$.\n",
    "\n",
    "No basta 1 simulación para cada $n$"
   ]
  },
  {
   "cell_type": "code",
   "execution_count": null,
   "metadata": {},
   "outputs": [],
   "source": [
    "set.seed(38)\n",
    "\n",
    "lanzar <- function(pos = 0, depth = 0) {\n",
    "    if (depth == 4) {\n",
    "        #cat(' final: ', ceiling(pos/2), '\\n\\n')\n",
    "        return(ceiling(pos/2))\n",
    "    }\n",
    "    lado <- floor(runif(1,1,3))\n",
    "    if (depth == 0) {\n",
    "        pos <- floor(runif(1,1,5))*2-1\n",
    "    }\n",
    "    if (pos == 0) {\n",
    "        pos <- pos+1\n",
    "    } else if (pos == 8) {\n",
    "        pos <- pos-1\n",
    "    } else if (lado == 1) {\n",
    "        pos <- pos-1\n",
    "    } else {\n",
    "        pos <- pos+1\n",
    "    }\n",
    "    return(lanzar(pos, depth+1))\n",
    "}\n",
    "\n",
    "## Old\n",
    "lanzara <- function() {\n",
    "    print(\"Lanzando\")\n",
    "    # Nivel 1\n",
    "    nivel1 <- floor(runif(1,1,5))\n",
    "    lado <- floor(runif(1,1,3))\n",
    "        cat(nivel1, a(lado), \"\\n\")###\n",
    "    if (lado == 1) {\n",
    "        nivel2 <- nivel1\n",
    "    } else {\n",
    "        nivel2 <- nivel1+1\n",
    "    }\n",
    "    # Nivel 2\n",
    "    lado <- floor(runif(1,1,3))\n",
    "    cat(nivel2, a(lado), \"\\n\")###\n",
    "    if (nivel2 == 1) {\n",
    "        nivel3 <- nivel2\n",
    "    } else if (nivel2 == 5) {\n",
    "        nivel3 <- nivel2-1\n",
    "    } else {\n",
    "        if (lado == 1) {\n",
    "            nivel3 <- nivel2-1\n",
    "        } else {\n",
    "            nivel3 <- nivel2\n",
    "        }\n",
    "    }\n",
    "    # Nivel 3\n",
    "    lado <- floor(runif(1,1,3))\n",
    "        cat(nivel3, a(lado), \"\\n\")###\n",
    "    if (lado == 1) {\n",
    "        nivel4 <- nivel3\n",
    "    } else {\n",
    "        nivel4 <- nivel3+1\n",
    "    }\n",
    "    # Nivel 4\n",
    "    lado <- floor(runif(1,1,3))\n",
    "        cat(nivel4, a(lado), \"\\n\")###\n",
    "    if (nivel4 == 1) {\n",
    "        resultado <- 1\n",
    "    } else if (nivel4 == 5) {\n",
    "        resultado <- 4\n",
    "    } else {\n",
    "        if (lado == 1) {\n",
    "            resultado <- nivel4-1\n",
    "        } else {\n",
    "            resultado <- nivel4\n",
    "        }\n",
    "    }\n",
    "    cat('resultado: ', resultado, \"\\n\")###\n",
    "    return(resultado)\n",
    "}\n",
    "\n",
    "isVictoria <- function(resultados) {\n",
    "    objetivo = c(0, 0, 0, 0)\n",
    "    for (i in 1:length(resultados)) {\n",
    "        actual <- resultados[i]\n",
    "        if (!objetivo[actual]) {\n",
    "            objetivo[actual] <- 1\n",
    "            if (sum(objetivo) == 4) {\n",
    "            return(1)\n",
    "            }\n",
    "        }\n",
    "    }\n",
    "    if (sum(objetivo) == 4) {\n",
    "        return(1)\n",
    "    } else {\n",
    "        return(0)\n",
    "    }\n",
    "}\n",
    "\n",
    "cantidadBolas <- vector(mode = 'numeric', length = 97)\n",
    "prob_nBolas <- vector(mode = 'numeric', length = 97)\n",
    "for (nBolas in 4:100) {\n",
    "    nVictorias <- 0\n",
    "    for (nSimulacion in 1:1000) {\n",
    "        resultados <- c()\n",
    "        # Lanzamientos por intento\n",
    "        for (lanzamiento in 1:nBolas) {\n",
    "            resultados <- c(resultados, lanzar())\n",
    "            if (lanzamiento >= 4) {\n",
    "                win <- isVictoria(resultados)\n",
    "                if (win) {\n",
    "                    nVictorias <- nVictorias+1\n",
    "                    break\n",
    "                }\n",
    "            }\n",
    "        }\n",
    "    }\n",
    "    cantidadBolas[nBolas-3] <- nBolas\n",
    "    prob_nBolas[nBolas-3] <- nVictorias/1000\n",
    "}\n",
    "\n",
    "simulacion <- data.frame(nBolas = cantidadBolas, probabilidad = prob_nBolas)\n",
    "head(simulacion)\n",
    "\n",
    "# Generación de gráfico\n",
    "ggplot(data=simulacion, aes(x=nBolas, y=prob_nBolas)) +\n",
    "ggtitle(\"Simulación de Bingo Ball\") +\n",
    "scale_x_continuous(trans='log2') +\n",
    "xlab(\"Cantidad de bolas utilizadas\") +\n",
    "ylab(\"Probabilidad de ganar\") +\n",
    "geom_smooth(method = \"loess\", se = FALSE)"
   ]
  },
  {
   "cell_type": "code",
   "execution_count": null,
   "metadata": {},
   "outputs": [],
   "source": [
    "ggplot(data=simulacion, aes(x=nBolas, y=prob_nBolas)) +\n",
    "ggtitle(\"Simulación de Bingo Ball\") +\n",
    "scale_x_continuous(trans='log10') +\n",
    "xlab(\"Cantidad de bolas utilizadas\") +\n",
    "ylab(\"Probabilidad de ganar\") +\n",
    "geom_smooth(method = \"loess\", se = FALSE)"
   ]
  },
  {
   "cell_type": "markdown",
   "metadata": {},
   "source": [
    ">c) Si a usted le queda 1 bola restante y solamente le falta cubrir la zona 3 determine la zona inicial a la que deberá apuntar el tiro para maximizar la probabilidad de ganar. "
   ]
  },
  {
   "cell_type": "code",
   "execution_count": null,
   "metadata": {},
   "outputs": [],
   "source": []
  },
  {
   "cell_type": "markdown",
   "metadata": {},
   "source": [
    ">d) Determine la probabilidad de alcanzar cada zona final si la bola llega inicialmente a \"A\". Repita el procedimiento pero esta vez utilizando \"C\" como punto de partida."
   ]
  },
  {
   "cell_type": "code",
   "execution_count": null,
   "metadata": {},
   "outputs": [],
   "source": []
  },
  {
   "cell_type": "markdown",
   "metadata": {},
   "source": [
    ">e) Si ahora la bola tiene un 70% de probabilidad de mantener la dirección actual y un 30% de cambiar de dirección ¿Mantiene la respuesta dada en a)?\n",
    "\n",
    "En la zona inicial (A,B,C,D) tiene la misma probabilidad de irse tanto a la izquierda como a la derecha, pero en las siguientes zonas si la bolita fue a la izquierda tiene un 70% de irse a la izquierda y un 30% de irse a la derecha, si después se va a la derecha tiene un 70% de probabilidad de irse a la derecha y así sucesivamente."
   ]
  },
  {
   "cell_type": "code",
   "execution_count": null,
   "metadata": {},
   "outputs": [],
   "source": []
  },
  {
   "cell_type": "markdown",
   "metadata": {},
   "source": [
    "## Reglas del Juego y Comentarios \n",
    "\n",
    "+ Errores ortográficos, de redacción y oraciones ambiguas descontarán parte de su puntaje.\n",
    "+ Las dudas deberán ser publicadas en moodle para que sus compañeros puedan beneficiarse de la respuesta, no se aceptarán dudas vía correo ni redes sociales, esto es para fomentar que todos tengan la misma información.\n",
    "+ Cada día de atraso descuenta 25 puntos de la nota final con un máximo de dos días de retraso (después es 0).\n",
    "+ La versión de R que se usará para revisar es 3.6.1\n",
    "+ La versión de Python que se usará para revisar es 3.6.8\n",
    "+ Use cualquier librería que estime conveniente, si requiere de instalación explicitarlo en el README (y bien explicitado).\n",
    "+ Código comentado para facilitar entendimiento.\n",
    "+ Sea formal y claro con su respuesta, **explique su procedimiento y luego responda.** \n",
    "+ Defina bien las secciones de su notebook, el orden siempre es bueno :) [Tips para usar Markdown](https://github.com/adam-p/markdown-here/wiki/Markdown-Cheatsheet)"
   ]
  }
 ],
 "metadata": {
  "kernelspec": {
   "display_name": "R",
   "language": "R",
   "name": "ir"
  },
  "language_info": {
   "codemirror_mode": "r",
   "file_extension": ".r",
   "mimetype": "text/x-r-source",
   "name": "R",
   "pygments_lexer": "r",
   "version": "3.6.1"
  }
 },
 "nbformat": 4,
 "nbformat_minor": 4
}
